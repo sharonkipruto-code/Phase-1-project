{
 "cells": [
  {
   "cell_type": "markdown",
   "id": "af2de27e",
   "metadata": {},
   "source": [
    "## AIRCRAFT ANALYSIS-AVIATION SAFETY INSIGHTS from U.S Aviation Accident Data"
   ]
  },
  {
   "cell_type": "markdown",
   "id": "4216f87f",
   "metadata": {},
   "source": [
    "\n",
    "Author: Sharon Kipruto\n"
   ]
  },
  {
   "cell_type": "markdown",
   "id": "daa3ec5f",
   "metadata": {},
   "source": [
    "#### Introduction"
   ]
  },
  {
   "cell_type": "markdown",
   "id": "347265bf",
   "metadata": {},
   "source": [
    "Skysafe Analytics Ltd. is expanding into the Aviation industry. For this reason they need to make good decisions on acquiring and operating airplanes for commercial and private enterprises using the recomendations given by us. As they do not know the potential risks involved in the aviation industry, we need to analyze for them the Aviation Data from U.S National Transportation Safety Board(NTSB) to give recomendations.\n",
    "We will do so by exploring, cleaning and studying the Data and use our findings to form actionable insights to the new Aviation department in Skysafe Analytics Ltd. This advice should help them pick safer aircrafts that will kickstart their new business venture to success.\n"
   ]
  },
  {
   "cell_type": "markdown",
   "id": "26e91555",
   "metadata": {},
   "source": [
    "### DATA UNDERSTANDING\n",
    "\n",
    "This project relies from data from [Kaggle](https://www.kaggle.com/datasets/drealbash/aviation-accident-from-1919-2023?select=aviation-accident-data-2023-05-16.csv)  from the US National Transportation Safety Board(NTSB) For the full context and key questions, refer to [README]()"
   ]
  },
  {
   "cell_type": "markdown",
   "id": "830436dc",
   "metadata": {},
   "source": []
  },
  {
   "cell_type": "markdown",
   "id": "b8b9889b",
   "metadata": {},
   "source": [
    "## 1. DATA EXPLORATION"
   ]
  },
  {
   "cell_type": "markdown",
   "id": "c12712eb",
   "metadata": {},
   "source": [
    "We load the dataset to understand its structure, contents, size and summary."
   ]
  },
  {
   "cell_type": "code",
   "execution_count": 2974,
   "id": "552ed9a6",
   "metadata": {},
   "outputs": [],
   "source": [
    "#importing relevant data Science libraries\n",
    "\n",
    "import pandas as pd\n",
    "import numpy as np\n",
    "import seaborn as sns\n",
    "import matplotlib.pyplot as plt\n",
    "%matplotlib inline\n",
    "\n",
    "plt.style.available\n",
    "plt.style.use('ggplot')"
   ]
  },
  {
   "cell_type": "code",
   "execution_count": 2975,
   "id": "c0ffcd1a",
   "metadata": {},
   "outputs": [
    {
     "data": {
      "text/html": [
       "<div>\n",
       "<style scoped>\n",
       "    .dataframe tbody tr th:only-of-type {\n",
       "        vertical-align: middle;\n",
       "    }\n",
       "\n",
       "    .dataframe tbody tr th {\n",
       "        vertical-align: top;\n",
       "    }\n",
       "\n",
       "    .dataframe thead th {\n",
       "        text-align: right;\n",
       "    }\n",
       "</style>\n",
       "<table border=\"1\" class=\"dataframe\">\n",
       "  <thead>\n",
       "    <tr style=\"text-align: right;\">\n",
       "      <th></th>\n",
       "      <th>Event.Id</th>\n",
       "      <th>Investigation.Type</th>\n",
       "      <th>Accident.Number</th>\n",
       "      <th>Event.Date</th>\n",
       "      <th>Location</th>\n",
       "      <th>Country</th>\n",
       "      <th>Latitude</th>\n",
       "      <th>Longitude</th>\n",
       "      <th>Airport.Code</th>\n",
       "      <th>Airport.Name</th>\n",
       "      <th>...</th>\n",
       "      <th>Purpose.of.flight</th>\n",
       "      <th>Air.carrier</th>\n",
       "      <th>Total.Fatal.Injuries</th>\n",
       "      <th>Total.Serious.Injuries</th>\n",
       "      <th>Total.Minor.Injuries</th>\n",
       "      <th>Total.Uninjured</th>\n",
       "      <th>Weather.Condition</th>\n",
       "      <th>Broad.phase.of.flight</th>\n",
       "      <th>Report.Status</th>\n",
       "      <th>Publication.Date</th>\n",
       "    </tr>\n",
       "  </thead>\n",
       "  <tbody>\n",
       "    <tr>\n",
       "      <th>0</th>\n",
       "      <td>20001218X45444</td>\n",
       "      <td>Accident</td>\n",
       "      <td>SEA87LA080</td>\n",
       "      <td>1948-10-24</td>\n",
       "      <td>MOOSE CREEK, ID</td>\n",
       "      <td>United States</td>\n",
       "      <td>NaN</td>\n",
       "      <td>NaN</td>\n",
       "      <td>NaN</td>\n",
       "      <td>NaN</td>\n",
       "      <td>...</td>\n",
       "      <td>Personal</td>\n",
       "      <td>NaN</td>\n",
       "      <td>2.0</td>\n",
       "      <td>0.0</td>\n",
       "      <td>0.0</td>\n",
       "      <td>0.0</td>\n",
       "      <td>UNK</td>\n",
       "      <td>Cruise</td>\n",
       "      <td>Probable Cause</td>\n",
       "      <td>NaN</td>\n",
       "    </tr>\n",
       "    <tr>\n",
       "      <th>1</th>\n",
       "      <td>20001218X45447</td>\n",
       "      <td>Accident</td>\n",
       "      <td>LAX94LA336</td>\n",
       "      <td>1962-07-19</td>\n",
       "      <td>BRIDGEPORT, CA</td>\n",
       "      <td>United States</td>\n",
       "      <td>NaN</td>\n",
       "      <td>NaN</td>\n",
       "      <td>NaN</td>\n",
       "      <td>NaN</td>\n",
       "      <td>...</td>\n",
       "      <td>Personal</td>\n",
       "      <td>NaN</td>\n",
       "      <td>4.0</td>\n",
       "      <td>0.0</td>\n",
       "      <td>0.0</td>\n",
       "      <td>0.0</td>\n",
       "      <td>UNK</td>\n",
       "      <td>Unknown</td>\n",
       "      <td>Probable Cause</td>\n",
       "      <td>19-09-1996</td>\n",
       "    </tr>\n",
       "    <tr>\n",
       "      <th>2</th>\n",
       "      <td>20061025X01555</td>\n",
       "      <td>Accident</td>\n",
       "      <td>NYC07LA005</td>\n",
       "      <td>1974-08-30</td>\n",
       "      <td>Saltville, VA</td>\n",
       "      <td>United States</td>\n",
       "      <td>36.922223</td>\n",
       "      <td>-81.878056</td>\n",
       "      <td>NaN</td>\n",
       "      <td>NaN</td>\n",
       "      <td>...</td>\n",
       "      <td>Personal</td>\n",
       "      <td>NaN</td>\n",
       "      <td>3.0</td>\n",
       "      <td>NaN</td>\n",
       "      <td>NaN</td>\n",
       "      <td>NaN</td>\n",
       "      <td>IMC</td>\n",
       "      <td>Cruise</td>\n",
       "      <td>Probable Cause</td>\n",
       "      <td>26-02-2007</td>\n",
       "    </tr>\n",
       "    <tr>\n",
       "      <th>3</th>\n",
       "      <td>20001218X45448</td>\n",
       "      <td>Accident</td>\n",
       "      <td>LAX96LA321</td>\n",
       "      <td>1977-06-19</td>\n",
       "      <td>EUREKA, CA</td>\n",
       "      <td>United States</td>\n",
       "      <td>NaN</td>\n",
       "      <td>NaN</td>\n",
       "      <td>NaN</td>\n",
       "      <td>NaN</td>\n",
       "      <td>...</td>\n",
       "      <td>Personal</td>\n",
       "      <td>NaN</td>\n",
       "      <td>2.0</td>\n",
       "      <td>0.0</td>\n",
       "      <td>0.0</td>\n",
       "      <td>0.0</td>\n",
       "      <td>IMC</td>\n",
       "      <td>Cruise</td>\n",
       "      <td>Probable Cause</td>\n",
       "      <td>12-09-2000</td>\n",
       "    </tr>\n",
       "    <tr>\n",
       "      <th>4</th>\n",
       "      <td>20041105X01764</td>\n",
       "      <td>Accident</td>\n",
       "      <td>CHI79FA064</td>\n",
       "      <td>1979-08-02</td>\n",
       "      <td>Canton, OH</td>\n",
       "      <td>United States</td>\n",
       "      <td>NaN</td>\n",
       "      <td>NaN</td>\n",
       "      <td>NaN</td>\n",
       "      <td>NaN</td>\n",
       "      <td>...</td>\n",
       "      <td>Personal</td>\n",
       "      <td>NaN</td>\n",
       "      <td>1.0</td>\n",
       "      <td>2.0</td>\n",
       "      <td>NaN</td>\n",
       "      <td>0.0</td>\n",
       "      <td>VMC</td>\n",
       "      <td>Approach</td>\n",
       "      <td>Probable Cause</td>\n",
       "      <td>16-04-1980</td>\n",
       "    </tr>\n",
       "  </tbody>\n",
       "</table>\n",
       "<p>5 rows × 31 columns</p>\n",
       "</div>"
      ],
      "text/plain": [
       "         Event.Id Investigation.Type Accident.Number  Event.Date  \\\n",
       "0  20001218X45444           Accident      SEA87LA080  1948-10-24   \n",
       "1  20001218X45447           Accident      LAX94LA336  1962-07-19   \n",
       "2  20061025X01555           Accident      NYC07LA005  1974-08-30   \n",
       "3  20001218X45448           Accident      LAX96LA321  1977-06-19   \n",
       "4  20041105X01764           Accident      CHI79FA064  1979-08-02   \n",
       "\n",
       "          Location        Country   Latitude   Longitude Airport.Code  \\\n",
       "0  MOOSE CREEK, ID  United States        NaN         NaN          NaN   \n",
       "1   BRIDGEPORT, CA  United States        NaN         NaN          NaN   \n",
       "2    Saltville, VA  United States  36.922223  -81.878056          NaN   \n",
       "3       EUREKA, CA  United States        NaN         NaN          NaN   \n",
       "4       Canton, OH  United States        NaN         NaN          NaN   \n",
       "\n",
       "  Airport.Name  ... Purpose.of.flight Air.carrier Total.Fatal.Injuries  \\\n",
       "0          NaN  ...          Personal         NaN                  2.0   \n",
       "1          NaN  ...          Personal         NaN                  4.0   \n",
       "2          NaN  ...          Personal         NaN                  3.0   \n",
       "3          NaN  ...          Personal         NaN                  2.0   \n",
       "4          NaN  ...          Personal         NaN                  1.0   \n",
       "\n",
       "  Total.Serious.Injuries Total.Minor.Injuries Total.Uninjured  \\\n",
       "0                    0.0                  0.0             0.0   \n",
       "1                    0.0                  0.0             0.0   \n",
       "2                    NaN                  NaN             NaN   \n",
       "3                    0.0                  0.0             0.0   \n",
       "4                    2.0                  NaN             0.0   \n",
       "\n",
       "  Weather.Condition  Broad.phase.of.flight   Report.Status Publication.Date  \n",
       "0               UNK                 Cruise  Probable Cause              NaN  \n",
       "1               UNK                Unknown  Probable Cause       19-09-1996  \n",
       "2               IMC                 Cruise  Probable Cause       26-02-2007  \n",
       "3               IMC                 Cruise  Probable Cause       12-09-2000  \n",
       "4               VMC               Approach  Probable Cause       16-04-1980  \n",
       "\n",
       "[5 rows x 31 columns]"
      ]
     },
     "execution_count": 2975,
     "metadata": {},
     "output_type": "execute_result"
    }
   ],
   "source": [
    "#importing data into dataframe\n",
    "\n",
    "df=pd.read_csv('./Data/AviationData.csv' , encoding='Latin1', low_memory=False)\n",
    "\n",
    "#display the first 5 rows\n",
    "df.head()"
   ]
  },
  {
   "cell_type": "code",
   "execution_count": 2976,
   "id": "d99b2e21",
   "metadata": {},
   "outputs": [
    {
     "data": {
      "text/html": [
       "<div>\n",
       "<style scoped>\n",
       "    .dataframe tbody tr th:only-of-type {\n",
       "        vertical-align: middle;\n",
       "    }\n",
       "\n",
       "    .dataframe tbody tr th {\n",
       "        vertical-align: top;\n",
       "    }\n",
       "\n",
       "    .dataframe thead th {\n",
       "        text-align: right;\n",
       "    }\n",
       "</style>\n",
       "<table border=\"1\" class=\"dataframe\">\n",
       "  <thead>\n",
       "    <tr style=\"text-align: right;\">\n",
       "      <th></th>\n",
       "      <th>Event.Id</th>\n",
       "      <th>Investigation.Type</th>\n",
       "      <th>Accident.Number</th>\n",
       "      <th>Event.Date</th>\n",
       "      <th>Location</th>\n",
       "      <th>Country</th>\n",
       "      <th>Latitude</th>\n",
       "      <th>Longitude</th>\n",
       "      <th>Airport.Code</th>\n",
       "      <th>Airport.Name</th>\n",
       "      <th>...</th>\n",
       "      <th>Purpose.of.flight</th>\n",
       "      <th>Air.carrier</th>\n",
       "      <th>Total.Fatal.Injuries</th>\n",
       "      <th>Total.Serious.Injuries</th>\n",
       "      <th>Total.Minor.Injuries</th>\n",
       "      <th>Total.Uninjured</th>\n",
       "      <th>Weather.Condition</th>\n",
       "      <th>Broad.phase.of.flight</th>\n",
       "      <th>Report.Status</th>\n",
       "      <th>Publication.Date</th>\n",
       "    </tr>\n",
       "  </thead>\n",
       "  <tbody>\n",
       "    <tr>\n",
       "      <th>88884</th>\n",
       "      <td>20221227106491</td>\n",
       "      <td>Accident</td>\n",
       "      <td>ERA23LA093</td>\n",
       "      <td>2022-12-26</td>\n",
       "      <td>Annapolis, MD</td>\n",
       "      <td>United States</td>\n",
       "      <td>NaN</td>\n",
       "      <td>NaN</td>\n",
       "      <td>NaN</td>\n",
       "      <td>NaN</td>\n",
       "      <td>...</td>\n",
       "      <td>Personal</td>\n",
       "      <td>NaN</td>\n",
       "      <td>0.0</td>\n",
       "      <td>1.0</td>\n",
       "      <td>0.0</td>\n",
       "      <td>0.0</td>\n",
       "      <td>NaN</td>\n",
       "      <td>NaN</td>\n",
       "      <td>NaN</td>\n",
       "      <td>29-12-2022</td>\n",
       "    </tr>\n",
       "    <tr>\n",
       "      <th>88885</th>\n",
       "      <td>20221227106494</td>\n",
       "      <td>Accident</td>\n",
       "      <td>ERA23LA095</td>\n",
       "      <td>2022-12-26</td>\n",
       "      <td>Hampton, NH</td>\n",
       "      <td>United States</td>\n",
       "      <td>NaN</td>\n",
       "      <td>NaN</td>\n",
       "      <td>NaN</td>\n",
       "      <td>NaN</td>\n",
       "      <td>...</td>\n",
       "      <td>NaN</td>\n",
       "      <td>NaN</td>\n",
       "      <td>0.0</td>\n",
       "      <td>0.0</td>\n",
       "      <td>0.0</td>\n",
       "      <td>0.0</td>\n",
       "      <td>NaN</td>\n",
       "      <td>NaN</td>\n",
       "      <td>NaN</td>\n",
       "      <td>NaN</td>\n",
       "    </tr>\n",
       "    <tr>\n",
       "      <th>88886</th>\n",
       "      <td>20221227106497</td>\n",
       "      <td>Accident</td>\n",
       "      <td>WPR23LA075</td>\n",
       "      <td>2022-12-26</td>\n",
       "      <td>Payson, AZ</td>\n",
       "      <td>United States</td>\n",
       "      <td>341525N</td>\n",
       "      <td>1112021W</td>\n",
       "      <td>PAN</td>\n",
       "      <td>PAYSON</td>\n",
       "      <td>...</td>\n",
       "      <td>Personal</td>\n",
       "      <td>NaN</td>\n",
       "      <td>0.0</td>\n",
       "      <td>0.0</td>\n",
       "      <td>0.0</td>\n",
       "      <td>1.0</td>\n",
       "      <td>VMC</td>\n",
       "      <td>NaN</td>\n",
       "      <td>NaN</td>\n",
       "      <td>27-12-2022</td>\n",
       "    </tr>\n",
       "    <tr>\n",
       "      <th>88887</th>\n",
       "      <td>20221227106498</td>\n",
       "      <td>Accident</td>\n",
       "      <td>WPR23LA076</td>\n",
       "      <td>2022-12-26</td>\n",
       "      <td>Morgan, UT</td>\n",
       "      <td>United States</td>\n",
       "      <td>NaN</td>\n",
       "      <td>NaN</td>\n",
       "      <td>NaN</td>\n",
       "      <td>NaN</td>\n",
       "      <td>...</td>\n",
       "      <td>Personal</td>\n",
       "      <td>MC CESSNA 210N LLC</td>\n",
       "      <td>0.0</td>\n",
       "      <td>0.0</td>\n",
       "      <td>0.0</td>\n",
       "      <td>0.0</td>\n",
       "      <td>NaN</td>\n",
       "      <td>NaN</td>\n",
       "      <td>NaN</td>\n",
       "      <td>NaN</td>\n",
       "    </tr>\n",
       "    <tr>\n",
       "      <th>88888</th>\n",
       "      <td>20221230106513</td>\n",
       "      <td>Accident</td>\n",
       "      <td>ERA23LA097</td>\n",
       "      <td>2022-12-29</td>\n",
       "      <td>Athens, GA</td>\n",
       "      <td>United States</td>\n",
       "      <td>NaN</td>\n",
       "      <td>NaN</td>\n",
       "      <td>NaN</td>\n",
       "      <td>NaN</td>\n",
       "      <td>...</td>\n",
       "      <td>Personal</td>\n",
       "      <td>NaN</td>\n",
       "      <td>0.0</td>\n",
       "      <td>1.0</td>\n",
       "      <td>0.0</td>\n",
       "      <td>1.0</td>\n",
       "      <td>NaN</td>\n",
       "      <td>NaN</td>\n",
       "      <td>NaN</td>\n",
       "      <td>30-12-2022</td>\n",
       "    </tr>\n",
       "  </tbody>\n",
       "</table>\n",
       "<p>5 rows × 31 columns</p>\n",
       "</div>"
      ],
      "text/plain": [
       "             Event.Id Investigation.Type Accident.Number  Event.Date  \\\n",
       "88884  20221227106491           Accident      ERA23LA093  2022-12-26   \n",
       "88885  20221227106494           Accident      ERA23LA095  2022-12-26   \n",
       "88886  20221227106497           Accident      WPR23LA075  2022-12-26   \n",
       "88887  20221227106498           Accident      WPR23LA076  2022-12-26   \n",
       "88888  20221230106513           Accident      ERA23LA097  2022-12-29   \n",
       "\n",
       "            Location        Country Latitude Longitude Airport.Code  \\\n",
       "88884  Annapolis, MD  United States      NaN       NaN          NaN   \n",
       "88885    Hampton, NH  United States      NaN       NaN          NaN   \n",
       "88886     Payson, AZ  United States  341525N  1112021W          PAN   \n",
       "88887     Morgan, UT  United States      NaN       NaN          NaN   \n",
       "88888     Athens, GA  United States      NaN       NaN          NaN   \n",
       "\n",
       "      Airport.Name  ... Purpose.of.flight         Air.carrier  \\\n",
       "88884          NaN  ...          Personal                 NaN   \n",
       "88885          NaN  ...               NaN                 NaN   \n",
       "88886       PAYSON  ...          Personal                 NaN   \n",
       "88887          NaN  ...          Personal  MC CESSNA 210N LLC   \n",
       "88888          NaN  ...          Personal                 NaN   \n",
       "\n",
       "      Total.Fatal.Injuries Total.Serious.Injuries Total.Minor.Injuries  \\\n",
       "88884                  0.0                    1.0                  0.0   \n",
       "88885                  0.0                    0.0                  0.0   \n",
       "88886                  0.0                    0.0                  0.0   \n",
       "88887                  0.0                    0.0                  0.0   \n",
       "88888                  0.0                    1.0                  0.0   \n",
       "\n",
       "      Total.Uninjured Weather.Condition  Broad.phase.of.flight Report.Status  \\\n",
       "88884             0.0               NaN                    NaN           NaN   \n",
       "88885             0.0               NaN                    NaN           NaN   \n",
       "88886             1.0               VMC                    NaN           NaN   \n",
       "88887             0.0               NaN                    NaN           NaN   \n",
       "88888             1.0               NaN                    NaN           NaN   \n",
       "\n",
       "      Publication.Date  \n",
       "88884       29-12-2022  \n",
       "88885              NaN  \n",
       "88886       27-12-2022  \n",
       "88887              NaN  \n",
       "88888       30-12-2022  \n",
       "\n",
       "[5 rows x 31 columns]"
      ]
     },
     "execution_count": 2976,
     "metadata": {},
     "output_type": "execute_result"
    }
   ],
   "source": [
    "#display the last 5 rows\n",
    "df.tail()"
   ]
  },
  {
   "cell_type": "code",
   "execution_count": 2977,
   "id": "8c199c98",
   "metadata": {},
   "outputs": [
    {
     "data": {
      "text/plain": [
       "(88889, 31)"
      ]
     },
     "execution_count": 2977,
     "metadata": {},
     "output_type": "execute_result"
    }
   ],
   "source": [
    "#display the shape of the data to check number of rows and columns in the dataset\n",
    "\n",
    "df.shape"
   ]
  },
  {
   "cell_type": "code",
   "execution_count": 2978,
   "id": "374480aa",
   "metadata": {},
   "outputs": [
    {
     "data": {
      "text/plain": [
       "Index(['Event.Id', 'Investigation.Type', 'Accident.Number', 'Event.Date',\n",
       "       'Location', 'Country', 'Latitude', 'Longitude', 'Airport.Code',\n",
       "       'Airport.Name', 'Injury.Severity', 'Aircraft.damage',\n",
       "       'Aircraft.Category', 'Registration.Number', 'Make', 'Model',\n",
       "       'Amateur.Built', 'Number.of.Engines', 'Engine.Type', 'FAR.Description',\n",
       "       'Schedule', 'Purpose.of.flight', 'Air.carrier', 'Total.Fatal.Injuries',\n",
       "       'Total.Serious.Injuries', 'Total.Minor.Injuries', 'Total.Uninjured',\n",
       "       'Weather.Condition', 'Broad.phase.of.flight', 'Report.Status',\n",
       "       'Publication.Date'],\n",
       "      dtype='object')"
      ]
     },
     "execution_count": 2978,
     "metadata": {},
     "output_type": "execute_result"
    }
   ],
   "source": [
    "#display the available columns of the dataset\n",
    "df.columns"
   ]
  },
  {
   "cell_type": "code",
   "execution_count": 2979,
   "id": "448431f4",
   "metadata": {},
   "outputs": [
    {
     "name": "stdout",
     "output_type": "stream",
     "text": [
      "<class 'pandas.core.frame.DataFrame'>\n",
      "RangeIndex: 88889 entries, 0 to 88888\n",
      "Data columns (total 31 columns):\n",
      " #   Column                  Non-Null Count  Dtype  \n",
      "---  ------                  --------------  -----  \n",
      " 0   Event.Id                88889 non-null  object \n",
      " 1   Investigation.Type      88889 non-null  object \n",
      " 2   Accident.Number         88889 non-null  object \n",
      " 3   Event.Date              88889 non-null  object \n",
      " 4   Location                88837 non-null  object \n",
      " 5   Country                 88663 non-null  object \n",
      " 6   Latitude                34382 non-null  object \n",
      " 7   Longitude               34373 non-null  object \n",
      " 8   Airport.Code            50249 non-null  object \n",
      " 9   Airport.Name            52790 non-null  object \n",
      " 10  Injury.Severity         87889 non-null  object \n",
      " 11  Aircraft.damage         85695 non-null  object \n",
      " 12  Aircraft.Category       32287 non-null  object \n",
      " 13  Registration.Number     87572 non-null  object \n",
      " 14  Make                    88826 non-null  object \n",
      " 15  Model                   88797 non-null  object \n",
      " 16  Amateur.Built           88787 non-null  object \n",
      " 17  Number.of.Engines       82805 non-null  float64\n",
      " 18  Engine.Type             81812 non-null  object \n",
      " 19  FAR.Description         32023 non-null  object \n",
      " 20  Schedule                12582 non-null  object \n",
      " 21  Purpose.of.flight       82697 non-null  object \n",
      " 22  Air.carrier             16648 non-null  object \n",
      " 23  Total.Fatal.Injuries    77488 non-null  float64\n",
      " 24  Total.Serious.Injuries  76379 non-null  float64\n",
      " 25  Total.Minor.Injuries    76956 non-null  float64\n",
      " 26  Total.Uninjured         82977 non-null  float64\n",
      " 27  Weather.Condition       84397 non-null  object \n",
      " 28  Broad.phase.of.flight   61724 non-null  object \n",
      " 29  Report.Status           82508 non-null  object \n",
      " 30  Publication.Date        75118 non-null  object \n",
      "dtypes: float64(5), object(26)\n",
      "memory usage: 21.0+ MB\n"
     ]
    }
   ],
   "source": [
    "#checking summary of the dataset\n",
    "\n",
    "df.info()"
   ]
  },
  {
   "cell_type": "code",
   "execution_count": 2980,
   "id": "64524028",
   "metadata": {},
   "outputs": [
    {
     "data": {
      "text/html": [
       "<div>\n",
       "<style scoped>\n",
       "    .dataframe tbody tr th:only-of-type {\n",
       "        vertical-align: middle;\n",
       "    }\n",
       "\n",
       "    .dataframe tbody tr th {\n",
       "        vertical-align: top;\n",
       "    }\n",
       "\n",
       "    .dataframe thead th {\n",
       "        text-align: right;\n",
       "    }\n",
       "</style>\n",
       "<table border=\"1\" class=\"dataframe\">\n",
       "  <thead>\n",
       "    <tr style=\"text-align: right;\">\n",
       "      <th></th>\n",
       "      <th>count</th>\n",
       "      <th>mean</th>\n",
       "      <th>std</th>\n",
       "      <th>min</th>\n",
       "      <th>25%</th>\n",
       "      <th>50%</th>\n",
       "      <th>75%</th>\n",
       "      <th>max</th>\n",
       "    </tr>\n",
       "  </thead>\n",
       "  <tbody>\n",
       "    <tr>\n",
       "      <th>Number.of.Engines</th>\n",
       "      <td>82805.0</td>\n",
       "      <td>1.146585</td>\n",
       "      <td>0.446510</td>\n",
       "      <td>0.0</td>\n",
       "      <td>1.0</td>\n",
       "      <td>1.0</td>\n",
       "      <td>1.0</td>\n",
       "      <td>8.0</td>\n",
       "    </tr>\n",
       "    <tr>\n",
       "      <th>Total.Fatal.Injuries</th>\n",
       "      <td>77488.0</td>\n",
       "      <td>0.647855</td>\n",
       "      <td>5.485960</td>\n",
       "      <td>0.0</td>\n",
       "      <td>0.0</td>\n",
       "      <td>0.0</td>\n",
       "      <td>0.0</td>\n",
       "      <td>349.0</td>\n",
       "    </tr>\n",
       "    <tr>\n",
       "      <th>Total.Serious.Injuries</th>\n",
       "      <td>76379.0</td>\n",
       "      <td>0.279881</td>\n",
       "      <td>1.544084</td>\n",
       "      <td>0.0</td>\n",
       "      <td>0.0</td>\n",
       "      <td>0.0</td>\n",
       "      <td>0.0</td>\n",
       "      <td>161.0</td>\n",
       "    </tr>\n",
       "    <tr>\n",
       "      <th>Total.Minor.Injuries</th>\n",
       "      <td>76956.0</td>\n",
       "      <td>0.357061</td>\n",
       "      <td>2.235625</td>\n",
       "      <td>0.0</td>\n",
       "      <td>0.0</td>\n",
       "      <td>0.0</td>\n",
       "      <td>0.0</td>\n",
       "      <td>380.0</td>\n",
       "    </tr>\n",
       "    <tr>\n",
       "      <th>Total.Uninjured</th>\n",
       "      <td>82977.0</td>\n",
       "      <td>5.325440</td>\n",
       "      <td>27.913634</td>\n",
       "      <td>0.0</td>\n",
       "      <td>0.0</td>\n",
       "      <td>1.0</td>\n",
       "      <td>2.0</td>\n",
       "      <td>699.0</td>\n",
       "    </tr>\n",
       "  </tbody>\n",
       "</table>\n",
       "</div>"
      ],
      "text/plain": [
       "                          count      mean        std  min  25%  50%  75%  \\\n",
       "Number.of.Engines       82805.0  1.146585   0.446510  0.0  1.0  1.0  1.0   \n",
       "Total.Fatal.Injuries    77488.0  0.647855   5.485960  0.0  0.0  0.0  0.0   \n",
       "Total.Serious.Injuries  76379.0  0.279881   1.544084  0.0  0.0  0.0  0.0   \n",
       "Total.Minor.Injuries    76956.0  0.357061   2.235625  0.0  0.0  0.0  0.0   \n",
       "Total.Uninjured         82977.0  5.325440  27.913634  0.0  0.0  1.0  2.0   \n",
       "\n",
       "                          max  \n",
       "Number.of.Engines         8.0  \n",
       "Total.Fatal.Injuries    349.0  \n",
       "Total.Serious.Injuries  161.0  \n",
       "Total.Minor.Injuries    380.0  \n",
       "Total.Uninjured         699.0  "
      ]
     },
     "execution_count": 2980,
     "metadata": {},
     "output_type": "execute_result"
    }
   ],
   "source": [
    "#display the descriptive statististic to get the overview of the distributions and transform to make it readable\n",
    "df.describe().T"
   ]
  },
  {
   "cell_type": "code",
   "execution_count": 2981,
   "id": "93e30874",
   "metadata": {},
   "outputs": [
    {
     "name": "stdout",
     "output_type": "stream",
     "text": [
      "The number of unique values in each column is:\n"
     ]
    },
    {
     "data": {
      "text/plain": [
       "Event.Id                  87951\n",
       "Investigation.Type            2\n",
       "Accident.Number           88863\n",
       "Event.Date                14782\n",
       "Location                  27758\n",
       "Country                     219\n",
       "Latitude                  25589\n",
       "Longitude                 27154\n",
       "Airport.Code              10375\n",
       "Airport.Name              24871\n",
       "Injury.Severity             109\n",
       "Aircraft.damage               4\n",
       "Aircraft.Category            15\n",
       "Registration.Number       79105\n",
       "Make                       8237\n",
       "Model                     12318\n",
       "Amateur.Built                 2\n",
       "Number.of.Engines             7\n",
       "Engine.Type                  13\n",
       "FAR.Description              31\n",
       "Schedule                      3\n",
       "Purpose.of.flight            26\n",
       "Air.carrier               13590\n",
       "Total.Fatal.Injuries        125\n",
       "Total.Serious.Injuries       50\n",
       "Total.Minor.Injuries         57\n",
       "Total.Uninjured             379\n",
       "Weather.Condition             4\n",
       "Broad.phase.of.flight        12\n",
       "Report.Status             17075\n",
       "Publication.Date           2924\n",
       "dtype: int64"
      ]
     },
     "execution_count": 2981,
     "metadata": {},
     "output_type": "execute_result"
    }
   ],
   "source": [
    "#check for number of unique values in the dataset\n",
    "\n",
    "print(f'The number of unique values in each column is:')\n",
    "\n",
    "\n",
    "df.nunique()"
   ]
  },
  {
   "cell_type": "code",
   "execution_count": 2982,
   "id": "c13303cf",
   "metadata": {},
   "outputs": [
    {
     "name": "stdout",
     "output_type": "stream",
     "text": [
      "The number of duplicated values is:0\n"
     ]
    }
   ],
   "source": [
    "#check for duplicates\n",
    "\n",
    "duplicates=df.duplicated().sum()\n",
    "\n",
    "print(f'The number of duplicated values is:{duplicates}')"
   ]
  },
  {
   "cell_type": "code",
   "execution_count": 2983,
   "id": "ce79b1d2",
   "metadata": {},
   "outputs": [
    {
     "data": {
      "text/plain": [
       "Event.Id                      0\n",
       "Investigation.Type            0\n",
       "Accident.Number               0\n",
       "Event.Date                    0\n",
       "Location                     52\n",
       "Country                     226\n",
       "Latitude                  54507\n",
       "Longitude                 54516\n",
       "Airport.Code              38640\n",
       "Airport.Name              36099\n",
       "Injury.Severity            1000\n",
       "Aircraft.damage            3194\n",
       "Aircraft.Category         56602\n",
       "Registration.Number        1317\n",
       "Make                         63\n",
       "Model                        92\n",
       "Amateur.Built               102\n",
       "Number.of.Engines          6084\n",
       "Engine.Type                7077\n",
       "FAR.Description           56866\n",
       "Schedule                  76307\n",
       "Purpose.of.flight          6192\n",
       "Air.carrier               72241\n",
       "Total.Fatal.Injuries      11401\n",
       "Total.Serious.Injuries    12510\n",
       "Total.Minor.Injuries      11933\n",
       "Total.Uninjured            5912\n",
       "Weather.Condition          4492\n",
       "Broad.phase.of.flight     27165\n",
       "Report.Status              6381\n",
       "Publication.Date          13771\n",
       "dtype: int64"
      ]
     },
     "execution_count": 2983,
     "metadata": {},
     "output_type": "execute_result"
    }
   ],
   "source": [
    "#check missing values\n",
    "\n",
    "df.isna().sum()"
   ]
  },
  {
   "cell_type": "code",
   "execution_count": 2984,
   "id": "c79d742c",
   "metadata": {},
   "outputs": [
    {
     "data": {
      "text/plain": [
       "Schedule                  85.845268\n",
       "Air.carrier               81.271023\n",
       "FAR.Description           63.974170\n",
       "Aircraft.Category         63.677170\n",
       "Longitude                 61.330423\n",
       "Latitude                  61.320298\n",
       "Airport.Code              43.469946\n",
       "Airport.Name              40.611324\n",
       "Broad.phase.of.flight     30.560587\n",
       "Publication.Date          15.492356\n",
       "Total.Serious.Injuries    14.073732\n",
       "Total.Minor.Injuries      13.424608\n",
       "Total.Fatal.Injuries      12.826109\n",
       "Engine.Type                7.961615\n",
       "Report.Status              7.178616\n",
       "Purpose.of.flight          6.965991\n",
       "Number.of.Engines          6.844491\n",
       "Total.Uninjured            6.650992\n",
       "Weather.Condition          5.053494\n",
       "Aircraft.damage            3.593246\n",
       "Registration.Number        1.481623\n",
       "Injury.Severity            1.124999\n",
       "Country                    0.254250\n",
       "Amateur.Built              0.114750\n",
       "Model                      0.103500\n",
       "Make                       0.070875\n",
       "Location                   0.058500\n",
       "Event.Date                 0.000000\n",
       "Accident.Number            0.000000\n",
       "Investigation.Type         0.000000\n",
       "Event.Id                   0.000000\n",
       "dtype: float64"
      ]
     },
     "execution_count": 2984,
     "metadata": {},
     "output_type": "execute_result"
    }
   ],
   "source": [
    "#sort percentage of null values from the highest\n",
    "\n",
    "(df.isna().sum()/len(df)*100).sort_values(ascending=False)"
   ]
  },
  {
   "cell_type": "markdown",
   "id": "659cf6b4",
   "metadata": {},
   "source": [
    "**Conclusion on the Data Exploration**\n",
    "\n",
    "The aviation dataset contains a mix of numerical and categorical data relating to the aviation accidents. The data has no duplicated values but has alot of missing values in some columns hence it will need some cleaning.\n",
    "\n",
    "\n"
   ]
  },
  {
   "cell_type": "markdown",
   "id": "7672f523",
   "metadata": {},
   "source": [
    "## 2.DATA CLEANING"
   ]
  },
  {
   "cell_type": "markdown",
   "id": "bd128f3f",
   "metadata": {},
   "source": [
    "In this section we will focus on cleaning the data by converting data to their correct types for consistency, cleaning the columns for readability, dealing with null values (categorical and numerical values) for reliability of the analysis."
   ]
  },
  {
   "cell_type": "markdown",
   "id": "f0423698",
   "metadata": {},
   "source": [
    "#### 2.1 Convert the dates to Datetime "
   ]
  },
  {
   "cell_type": "markdown",
   "id": "8391a4de",
   "metadata": {},
   "source": [
    "The `event_Date` and `Publication_Date` are both stored under Object data type which is not the corect type for dates,we need to convert into proper Datetime format to enable time-based analysis."
   ]
  },
  {
   "cell_type": "code",
   "execution_count": 2985,
   "id": "24036caf",
   "metadata": {},
   "outputs": [
    {
     "data": {
      "text/html": [
       "<div>\n",
       "<style scoped>\n",
       "    .dataframe tbody tr th:only-of-type {\n",
       "        vertical-align: middle;\n",
       "    }\n",
       "\n",
       "    .dataframe tbody tr th {\n",
       "        vertical-align: top;\n",
       "    }\n",
       "\n",
       "    .dataframe thead th {\n",
       "        text-align: right;\n",
       "    }\n",
       "</style>\n",
       "<table border=\"1\" class=\"dataframe\">\n",
       "  <thead>\n",
       "    <tr style=\"text-align: right;\">\n",
       "      <th></th>\n",
       "      <th>Event.Date</th>\n",
       "      <th>Publication.Date</th>\n",
       "    </tr>\n",
       "  </thead>\n",
       "  <tbody>\n",
       "    <tr>\n",
       "      <th>0</th>\n",
       "      <td>1948-10-24</td>\n",
       "      <td>NaN</td>\n",
       "    </tr>\n",
       "    <tr>\n",
       "      <th>1</th>\n",
       "      <td>1962-07-19</td>\n",
       "      <td>19-09-1996</td>\n",
       "    </tr>\n",
       "    <tr>\n",
       "      <th>2</th>\n",
       "      <td>1974-08-30</td>\n",
       "      <td>26-02-2007</td>\n",
       "    </tr>\n",
       "    <tr>\n",
       "      <th>3</th>\n",
       "      <td>1977-06-19</td>\n",
       "      <td>12-09-2000</td>\n",
       "    </tr>\n",
       "    <tr>\n",
       "      <th>4</th>\n",
       "      <td>1979-08-02</td>\n",
       "      <td>16-04-1980</td>\n",
       "    </tr>\n",
       "  </tbody>\n",
       "</table>\n",
       "</div>"
      ],
      "text/plain": [
       "   Event.Date Publication.Date\n",
       "0  1948-10-24              NaN\n",
       "1  1962-07-19       19-09-1996\n",
       "2  1974-08-30       26-02-2007\n",
       "3  1977-06-19       12-09-2000\n",
       "4  1979-08-02       16-04-1980"
      ]
     },
     "execution_count": 2985,
     "metadata": {},
     "output_type": "execute_result"
    }
   ],
   "source": [
    "#check how the dates were before\n",
    "df.loc[:, ['Event.Date', 'Publication.Date']].head()"
   ]
  },
  {
   "cell_type": "code",
   "execution_count": 2986,
   "id": "2cde28ad",
   "metadata": {},
   "outputs": [],
   "source": [
    "#convert Event.Date and publication.date to date time since they are scored as objects\n",
    "\n",
    "df[\"Event.Date\"] = pd.to_datetime(df[\"Event.Date\"], errors=\"coerce\")\n",
    "df[\"Publication.Date\"] = pd.to_datetime(df[\"Publication.Date\"], errors=\"coerce\")"
   ]
  },
  {
   "cell_type": "code",
   "execution_count": 2987,
   "id": "36eb58f7",
   "metadata": {},
   "outputs": [
    {
     "data": {
      "text/html": [
       "<div>\n",
       "<style scoped>\n",
       "    .dataframe tbody tr th:only-of-type {\n",
       "        vertical-align: middle;\n",
       "    }\n",
       "\n",
       "    .dataframe tbody tr th {\n",
       "        vertical-align: top;\n",
       "    }\n",
       "\n",
       "    .dataframe thead th {\n",
       "        text-align: right;\n",
       "    }\n",
       "</style>\n",
       "<table border=\"1\" class=\"dataframe\">\n",
       "  <thead>\n",
       "    <tr style=\"text-align: right;\">\n",
       "      <th></th>\n",
       "      <th>Event.Date</th>\n",
       "      <th>Publication.Date</th>\n",
       "    </tr>\n",
       "  </thead>\n",
       "  <tbody>\n",
       "    <tr>\n",
       "      <th>0</th>\n",
       "      <td>1948-10-24</td>\n",
       "      <td>NaT</td>\n",
       "    </tr>\n",
       "    <tr>\n",
       "      <th>1</th>\n",
       "      <td>1962-07-19</td>\n",
       "      <td>1996-09-19</td>\n",
       "    </tr>\n",
       "    <tr>\n",
       "      <th>2</th>\n",
       "      <td>1974-08-30</td>\n",
       "      <td>2007-02-26</td>\n",
       "    </tr>\n",
       "    <tr>\n",
       "      <th>3</th>\n",
       "      <td>1977-06-19</td>\n",
       "      <td>2000-12-09</td>\n",
       "    </tr>\n",
       "    <tr>\n",
       "      <th>4</th>\n",
       "      <td>1979-08-02</td>\n",
       "      <td>1980-04-16</td>\n",
       "    </tr>\n",
       "  </tbody>\n",
       "</table>\n",
       "</div>"
      ],
      "text/plain": [
       "  Event.Date Publication.Date\n",
       "0 1948-10-24              NaT\n",
       "1 1962-07-19       1996-09-19\n",
       "2 1974-08-30       2007-02-26\n",
       "3 1977-06-19       2000-12-09\n",
       "4 1979-08-02       1980-04-16"
      ]
     },
     "execution_count": 2987,
     "metadata": {},
     "output_type": "execute_result"
    }
   ],
   "source": [
    "#confirm the changes\n",
    "df.loc[:, ['Event.Date', 'Publication.Date']].head()"
   ]
  },
  {
   "cell_type": "markdown",
   "id": "3924035e",
   "metadata": {},
   "source": [
    "The dates have been changed accordingly."
   ]
  },
  {
   "cell_type": "markdown",
   "id": "81b34f8c",
   "metadata": {},
   "source": [
    "#### 2.2 Clean the columns"
   ]
  },
  {
   "cell_type": "code",
   "execution_count": 2988,
   "id": "0f0e3cd8",
   "metadata": {},
   "outputs": [
    {
     "data": {
      "text/plain": [
       "Index(['Event.Id', 'Investigation.Type', 'Accident.Number', 'Event.Date',\n",
       "       'Location', 'Country', 'Latitude', 'Longitude', 'Airport.Code',\n",
       "       'Airport.Name', 'Injury.Severity', 'Aircraft.damage',\n",
       "       'Aircraft.Category', 'Registration.Number', 'Make', 'Model',\n",
       "       'Amateur.Built', 'Number.of.Engines', 'Engine.Type', 'FAR.Description',\n",
       "       'Schedule', 'Purpose.of.flight', 'Air.carrier', 'Total.Fatal.Injuries',\n",
       "       'Total.Serious.Injuries', 'Total.Minor.Injuries', 'Total.Uninjured',\n",
       "       'Weather.Condition', 'Broad.phase.of.flight', 'Report.Status',\n",
       "       'Publication.Date'],\n",
       "      dtype='object')"
      ]
     },
     "execution_count": 2988,
     "metadata": {},
     "output_type": "execute_result"
    }
   ],
   "source": [
    "#check the columns\n",
    "df.columns"
   ]
  },
  {
   "cell_type": "markdown",
   "id": "f7625766",
   "metadata": {},
   "source": [
    "**a) standadize column names** "
   ]
  },
  {
   "cell_type": "code",
   "execution_count": 2989,
   "id": "d56a7cc3",
   "metadata": {},
   "outputs": [
    {
     "data": {
      "text/plain": [
       "Index(['Event_Id', 'Investigation_Type', 'Accident_Number', 'Event_Date',\n",
       "       'Location', 'Country', 'Latitude', 'Longitude', 'Airport_Code',\n",
       "       'Airport_Name', 'Injury_Severity', 'Aircraft_Damage',\n",
       "       'Aircraft_Category', 'Registration_Number', 'Make', 'Model',\n",
       "       'Amateur_Built', 'Number_Of_Engines', 'Engine_Type', 'Far_Description',\n",
       "       'Schedule', 'Purpose_Of_Flight', 'Air_Carrier', 'Total_Fatal_Injuries',\n",
       "       'Total_Serious_Injuries', 'Total_Minor_Injuries', 'Total_Uninjured',\n",
       "       'Weather_Condition', 'Broad_Phase_Of_Flight', 'Report_Status',\n",
       "       'Publication_Date'],\n",
       "      dtype='object')"
      ]
     },
     "execution_count": 2989,
     "metadata": {},
     "output_type": "execute_result"
    }
   ],
   "source": [
    "#clean the column names for easy access and readability\n",
    "#strip spaces,make it title case ,replace spaces with underscore and replace dot with underscore\n",
    "df.columns=(df.columns.str.strip().str.title().str.replace(' ','_').str.replace('.','_'))\n",
    "\n",
    "#check new column names \n",
    "df.columns"
   ]
  },
  {
   "cell_type": "markdown",
   "id": "614a69be",
   "metadata": {},
   "source": [
    "**b)Extracting new column names and adding to our dataset**"
   ]
  },
  {
   "cell_type": "markdown",
   "id": "310402db",
   "metadata": {},
   "source": [
    "It is important to our data analysis that we derive new columns that are relevant, such as `Year` ,`Month`,`Day_of_Week` , `Total_Injuries` and `Aircraft type`.Also we will create a column named `Decade` that will hold 10 year intervals that will be relavant when analysing the trends overtime."
   ]
  },
  {
   "cell_type": "code",
   "execution_count": 2990,
   "id": "219b3361",
   "metadata": {},
   "outputs": [],
   "source": [
    "#Extract year, month and day_of_week from the ['Event_Date] column for easy analysis\n",
    "df['Year']=df['Event_Date'].dt.year\n",
    "df['Month']=df['Event_Date'].dt.month\n",
    "df['Day_of_Week']=df['Event_Date'].dt.day_name()\n"
   ]
  },
  {
   "cell_type": "code",
   "execution_count": 2991,
   "id": "70260272",
   "metadata": {},
   "outputs": [
    {
     "data": {
      "text/html": [
       "<div>\n",
       "<style scoped>\n",
       "    .dataframe tbody tr th:only-of-type {\n",
       "        vertical-align: middle;\n",
       "    }\n",
       "\n",
       "    .dataframe tbody tr th {\n",
       "        vertical-align: top;\n",
       "    }\n",
       "\n",
       "    .dataframe thead th {\n",
       "        text-align: right;\n",
       "    }\n",
       "</style>\n",
       "<table border=\"1\" class=\"dataframe\">\n",
       "  <thead>\n",
       "    <tr style=\"text-align: right;\">\n",
       "      <th></th>\n",
       "      <th>Event_Date</th>\n",
       "      <th>Year</th>\n",
       "      <th>Month</th>\n",
       "      <th>Day_of_Week</th>\n",
       "    </tr>\n",
       "  </thead>\n",
       "  <tbody>\n",
       "    <tr>\n",
       "      <th>0</th>\n",
       "      <td>1948-10-24</td>\n",
       "      <td>1948</td>\n",
       "      <td>10</td>\n",
       "      <td>Sunday</td>\n",
       "    </tr>\n",
       "    <tr>\n",
       "      <th>1</th>\n",
       "      <td>1962-07-19</td>\n",
       "      <td>1962</td>\n",
       "      <td>7</td>\n",
       "      <td>Thursday</td>\n",
       "    </tr>\n",
       "    <tr>\n",
       "      <th>2</th>\n",
       "      <td>1974-08-30</td>\n",
       "      <td>1974</td>\n",
       "      <td>8</td>\n",
       "      <td>Friday</td>\n",
       "    </tr>\n",
       "    <tr>\n",
       "      <th>3</th>\n",
       "      <td>1977-06-19</td>\n",
       "      <td>1977</td>\n",
       "      <td>6</td>\n",
       "      <td>Sunday</td>\n",
       "    </tr>\n",
       "    <tr>\n",
       "      <th>4</th>\n",
       "      <td>1979-08-02</td>\n",
       "      <td>1979</td>\n",
       "      <td>8</td>\n",
       "      <td>Thursday</td>\n",
       "    </tr>\n",
       "  </tbody>\n",
       "</table>\n",
       "</div>"
      ],
      "text/plain": [
       "  Event_Date  Year  Month Day_of_Week\n",
       "0 1948-10-24  1948     10      Sunday\n",
       "1 1962-07-19  1962      7    Thursday\n",
       "2 1974-08-30  1974      8      Friday\n",
       "3 1977-06-19  1977      6      Sunday\n",
       "4 1979-08-02  1979      8    Thursday"
      ]
     },
     "execution_count": 2991,
     "metadata": {},
     "output_type": "execute_result"
    }
   ],
   "source": [
    "#preview after extracting the year day of week and month\n",
    "df.loc[:, ['Event_Date','Year','Month','Day_of_Week']].head()"
   ]
  },
  {
   "cell_type": "code",
   "execution_count": 2992,
   "id": "0fe31138",
   "metadata": {},
   "outputs": [],
   "source": [
    "# Create column for 10-year intervals\n",
    "df['Decade'] = (df['Year'] // 10) * 10"
   ]
  },
  {
   "cell_type": "code",
   "execution_count": 2993,
   "id": "93a88746",
   "metadata": {},
   "outputs": [
    {
     "data": {
      "text/plain": [
       "Index(['Event_Id', 'Investigation_Type', 'Accident_Number', 'Event_Date',\n",
       "       'Location', 'Country', 'Latitude', 'Longitude', 'Airport_Code',\n",
       "       'Airport_Name', 'Injury_Severity', 'Aircraft_Damage',\n",
       "       'Aircraft_Category', 'Registration_Number', 'Make', 'Model',\n",
       "       'Amateur_Built', 'Number_Of_Engines', 'Engine_Type', 'Far_Description',\n",
       "       'Schedule', 'Purpose_Of_Flight', 'Air_Carrier', 'Total_Fatal_Injuries',\n",
       "       'Total_Serious_Injuries', 'Total_Minor_Injuries', 'Total_Uninjured',\n",
       "       'Weather_Condition', 'Broad_Phase_Of_Flight', 'Report_Status',\n",
       "       'Publication_Date', 'Year', 'Month', 'Day_of_Week', 'Decade'],\n",
       "      dtype='object')"
      ]
     },
     "execution_count": 2993,
     "metadata": {},
     "output_type": "execute_result"
    }
   ],
   "source": [
    "df.columns"
   ]
  },
  {
   "cell_type": "markdown",
   "id": "d651a3bd",
   "metadata": {},
   "source": [
    "Create a column for `Total Injuries` that summarises all the Injuries occured."
   ]
  },
  {
   "cell_type": "code",
   "execution_count": 2994,
   "id": "a97d7c2e",
   "metadata": {},
   "outputs": [
    {
     "data": {
      "text/html": [
       "<div>\n",
       "<style scoped>\n",
       "    .dataframe tbody tr th:only-of-type {\n",
       "        vertical-align: middle;\n",
       "    }\n",
       "\n",
       "    .dataframe tbody tr th {\n",
       "        vertical-align: top;\n",
       "    }\n",
       "\n",
       "    .dataframe thead th {\n",
       "        text-align: right;\n",
       "    }\n",
       "</style>\n",
       "<table border=\"1\" class=\"dataframe\">\n",
       "  <thead>\n",
       "    <tr style=\"text-align: right;\">\n",
       "      <th></th>\n",
       "      <th>Total_Serious_Injuries</th>\n",
       "      <th>Total_Minor_Injuries</th>\n",
       "      <th>Total_Injuries</th>\n",
       "    </tr>\n",
       "  </thead>\n",
       "  <tbody>\n",
       "    <tr>\n",
       "      <th>0</th>\n",
       "      <td>0.0</td>\n",
       "      <td>0.0</td>\n",
       "      <td>0.0</td>\n",
       "    </tr>\n",
       "    <tr>\n",
       "      <th>1</th>\n",
       "      <td>0.0</td>\n",
       "      <td>0.0</td>\n",
       "      <td>0.0</td>\n",
       "    </tr>\n",
       "    <tr>\n",
       "      <th>2</th>\n",
       "      <td>NaN</td>\n",
       "      <td>NaN</td>\n",
       "      <td>NaN</td>\n",
       "    </tr>\n",
       "    <tr>\n",
       "      <th>3</th>\n",
       "      <td>0.0</td>\n",
       "      <td>0.0</td>\n",
       "      <td>0.0</td>\n",
       "    </tr>\n",
       "    <tr>\n",
       "      <th>4</th>\n",
       "      <td>2.0</td>\n",
       "      <td>NaN</td>\n",
       "      <td>NaN</td>\n",
       "    </tr>\n",
       "  </tbody>\n",
       "</table>\n",
       "</div>"
      ],
      "text/plain": [
       "   Total_Serious_Injuries  Total_Minor_Injuries  Total_Injuries\n",
       "0                     0.0                   0.0             0.0\n",
       "1                     0.0                   0.0             0.0\n",
       "2                     NaN                   NaN             NaN\n",
       "3                     0.0                   0.0             0.0\n",
       "4                     2.0                   NaN             NaN"
      ]
     },
     "execution_count": 2994,
     "metadata": {},
     "output_type": "execute_result"
    }
   ],
   "source": [
    "\n",
    "df['Total_Injuries'] = df['Total_Serious_Injuries'] + df['Total_Minor_Injuries']\n",
    "\n",
    "#preview after creating the Total_Injuries column\n",
    "df.loc[:,['Total_Serious_Injuries','Total_Minor_Injuries','Total_Injuries']].head()"
   ]
  },
  {
   "cell_type": "markdown",
   "id": "6c755c97",
   "metadata": {},
   "source": [
    "The `make` and `model` of the Aircraft is an important Variable to help determine the aircraft to purchase. For the column with `Model` and `Make` of the aircrafts we will combine to form new column `Aircraft_Type` that can be used in our analysis later."
   ]
  },
  {
   "cell_type": "code",
   "execution_count": 2995,
   "id": "438dc5c3",
   "metadata": {},
   "outputs": [
    {
     "data": {
      "text/html": [
       "<div>\n",
       "<style scoped>\n",
       "    .dataframe tbody tr th:only-of-type {\n",
       "        vertical-align: middle;\n",
       "    }\n",
       "\n",
       "    .dataframe tbody tr th {\n",
       "        vertical-align: top;\n",
       "    }\n",
       "\n",
       "    .dataframe thead th {\n",
       "        text-align: right;\n",
       "    }\n",
       "</style>\n",
       "<table border=\"1\" class=\"dataframe\">\n",
       "  <thead>\n",
       "    <tr style=\"text-align: right;\">\n",
       "      <th></th>\n",
       "      <th>Make</th>\n",
       "      <th>Model</th>\n",
       "    </tr>\n",
       "  </thead>\n",
       "  <tbody>\n",
       "    <tr>\n",
       "      <th>0</th>\n",
       "      <td>Stinson</td>\n",
       "      <td>108-3</td>\n",
       "    </tr>\n",
       "    <tr>\n",
       "      <th>1</th>\n",
       "      <td>Piper</td>\n",
       "      <td>PA24-180</td>\n",
       "    </tr>\n",
       "    <tr>\n",
       "      <th>2</th>\n",
       "      <td>Cessna</td>\n",
       "      <td>172M</td>\n",
       "    </tr>\n",
       "    <tr>\n",
       "      <th>3</th>\n",
       "      <td>Rockwell</td>\n",
       "      <td>112</td>\n",
       "    </tr>\n",
       "    <tr>\n",
       "      <th>4</th>\n",
       "      <td>Cessna</td>\n",
       "      <td>501</td>\n",
       "    </tr>\n",
       "    <tr>\n",
       "      <th>5</th>\n",
       "      <td>Mcdonnell Douglas</td>\n",
       "      <td>DC9</td>\n",
       "    </tr>\n",
       "  </tbody>\n",
       "</table>\n",
       "</div>"
      ],
      "text/plain": [
       "                Make     Model\n",
       "0            Stinson     108-3\n",
       "1              Piper  PA24-180\n",
       "2             Cessna      172M\n",
       "3           Rockwell       112\n",
       "4             Cessna       501\n",
       "5  Mcdonnell Douglas       DC9"
      ]
     },
     "execution_count": 2995,
     "metadata": {},
     "output_type": "execute_result"
    }
   ],
   "source": [
    "#first lets look at the first 5 rows column mentioned\n",
    "df.loc[0:5,['Make','Model']]"
   ]
  },
  {
   "cell_type": "code",
   "execution_count": 2996,
   "id": "85d7f963",
   "metadata": {},
   "outputs": [
    {
     "name": "stdout",
     "output_type": "stream",
     "text": [
      "92\n",
      "63\n"
     ]
    }
   ],
   "source": [
    "#check for number of missing values in the columns mentioned\n",
    "print(df['Model'].isnull().sum())\n",
    "print(df['Make'].isna().sum())"
   ]
  },
  {
   "cell_type": "code",
   "execution_count": 2997,
   "id": "22729694",
   "metadata": {},
   "outputs": [],
   "source": [
    "#standize the value for Make \n",
    "df['Make']=df['Make'].str.upper()\n"
   ]
  },
  {
   "cell_type": "code",
   "execution_count": 2998,
   "id": "1182035f",
   "metadata": {},
   "outputs": [],
   "source": [
    "#minimize errors during concatenation convert type to string\n",
    "df['Make']=df['Make'].astype(str)\n",
    "df['Model']=df['Model'].astype(str)\n",
    "\n",
    "#combine to make new column 'Aircraft_Type'\n",
    "df['Aircraft_Type']=df['Make']+ ' '+ df['Model']\n",
    "\n",
    "#replace 'nan' string values with Nan, since some values are missing in both columns\n",
    "df['Aircraft_Type']=df['Aircraft_Type'].replace('nan nan',np.nan)\n"
   ]
  },
  {
   "cell_type": "code",
   "execution_count": 2999,
   "id": "ea51545e",
   "metadata": {},
   "outputs": [
    {
     "data": {
      "text/html": [
       "<div>\n",
       "<style scoped>\n",
       "    .dataframe tbody tr th:only-of-type {\n",
       "        vertical-align: middle;\n",
       "    }\n",
       "\n",
       "    .dataframe tbody tr th {\n",
       "        vertical-align: top;\n",
       "    }\n",
       "\n",
       "    .dataframe thead th {\n",
       "        text-align: right;\n",
       "    }\n",
       "</style>\n",
       "<table border=\"1\" class=\"dataframe\">\n",
       "  <thead>\n",
       "    <tr style=\"text-align: right;\">\n",
       "      <th></th>\n",
       "      <th>Make</th>\n",
       "      <th>Model</th>\n",
       "      <th>Aircraft_Type</th>\n",
       "    </tr>\n",
       "  </thead>\n",
       "  <tbody>\n",
       "    <tr>\n",
       "      <th>0</th>\n",
       "      <td>STINSON</td>\n",
       "      <td>108-3</td>\n",
       "      <td>STINSON 108-3</td>\n",
       "    </tr>\n",
       "    <tr>\n",
       "      <th>1</th>\n",
       "      <td>PIPER</td>\n",
       "      <td>PA24-180</td>\n",
       "      <td>PIPER PA24-180</td>\n",
       "    </tr>\n",
       "    <tr>\n",
       "      <th>2</th>\n",
       "      <td>CESSNA</td>\n",
       "      <td>172M</td>\n",
       "      <td>CESSNA 172M</td>\n",
       "    </tr>\n",
       "    <tr>\n",
       "      <th>3</th>\n",
       "      <td>ROCKWELL</td>\n",
       "      <td>112</td>\n",
       "      <td>ROCKWELL 112</td>\n",
       "    </tr>\n",
       "    <tr>\n",
       "      <th>4</th>\n",
       "      <td>CESSNA</td>\n",
       "      <td>501</td>\n",
       "      <td>CESSNA 501</td>\n",
       "    </tr>\n",
       "  </tbody>\n",
       "</table>\n",
       "</div>"
      ],
      "text/plain": [
       "       Make     Model   Aircraft_Type\n",
       "0   STINSON     108-3   STINSON 108-3\n",
       "1     PIPER  PA24-180  PIPER PA24-180\n",
       "2    CESSNA      172M     CESSNA 172M\n",
       "3  ROCKWELL       112    ROCKWELL 112\n",
       "4    CESSNA       501      CESSNA 501"
      ]
     },
     "execution_count": 2999,
     "metadata": {},
     "output_type": "execute_result"
    }
   ],
   "source": [
    "#preview if the column is added and has a combination of make and Model\n",
    "df.loc[:,['Make','Model','Aircraft_Type']].head()"
   ]
  },
  {
   "cell_type": "markdown",
   "id": "539ead7b",
   "metadata": {},
   "source": [
    "#### 2.3 Dealing with missing values"
   ]
  },
  {
   "cell_type": "code",
   "execution_count": 3000,
   "id": "5b12fa28",
   "metadata": {},
   "outputs": [
    {
     "data": {
      "text/plain": [
       "Schedule                  85.845268\n",
       "Air_Carrier               81.271023\n",
       "Far_Description           63.974170\n",
       "Aircraft_Category         63.677170\n",
       "Longitude                 61.330423\n",
       "Latitude                  61.320298\n",
       "Airport_Code              43.469946\n",
       "Airport_Name              40.611324\n",
       "Broad_Phase_Of_Flight     30.560587\n",
       "Total_Injuries            15.809605\n",
       "Publication_Date          15.492356\n",
       "Total_Serious_Injuries    14.073732\n",
       "Total_Minor_Injuries      13.424608\n",
       "Total_Fatal_Injuries      12.826109\n",
       "Engine_Type                7.961615\n",
       "Report_Status              7.178616\n",
       "Purpose_Of_Flight          6.965991\n",
       "Number_Of_Engines          6.844491\n",
       "Total_Uninjured            6.650992\n",
       "Weather_Condition          5.053494\n",
       "Aircraft_Damage            3.593246\n",
       "Registration_Number        1.481623\n",
       "Injury_Severity            1.124999\n",
       "Country                    0.254250\n",
       "Amateur_Built              0.114750\n",
       "Location                   0.058500\n",
       "Aircraft_Type              0.048375\n",
       "Make                       0.000000\n",
       "Model                      0.000000\n",
       "Year                       0.000000\n",
       "Month                      0.000000\n",
       "Day_of_Week                0.000000\n",
       "Decade                     0.000000\n",
       "Event_Date                 0.000000\n",
       "Accident_Number            0.000000\n",
       "Investigation_Type         0.000000\n",
       "Event_Id                   0.000000\n",
       "dtype: float64"
      ]
     },
     "execution_count": 3000,
     "metadata": {},
     "output_type": "execute_result"
    }
   ],
   "source": [
    "#sort the percentage of null values in descending order\n",
    "(df.isna().sum()/len(df)*100).sort_values(ascending=False)"
   ]
  },
  {
   "cell_type": "markdown",
   "id": "d6c587b0",
   "metadata": {},
   "source": [
    "**A) CATEGORICAL DATA**"
   ]
  },
  {
   "cell_type": "code",
   "execution_count": 3001,
   "id": "e80ad8b7",
   "metadata": {},
   "outputs": [],
   "source": [
    "#drop full columns with above 60% null values and seem unimportant in our analysis\n",
    "\n",
    "df.drop(['Schedule','Air_Carrier','Far_Description','Publication_Date','Longitude','Latitude'], axis=1, inplace=True)\n",
    "\n"
   ]
  },
  {
   "cell_type": "code",
   "execution_count": 3002,
   "id": "9fd71768",
   "metadata": {},
   "outputs": [],
   "source": [
    "#drop the rows of columns with missing values that seem important for our analysis to keep \n",
    "df.dropna(subset=['Location','Country','Aircraft_Type'], inplace=True)"
   ]
  },
  {
   "cell_type": "markdown",
   "id": "6d46cc60",
   "metadata": {},
   "source": [
    "Now for the rest of the categorical values of data we will fill the null values with 'Unknown'"
   ]
  },
  {
   "cell_type": "code",
   "execution_count": 3003,
   "id": "3483cde3",
   "metadata": {},
   "outputs": [],
   "source": [
    "#fill 'unknown' to null values in some categorial data columns\n",
    "categorical_cols=['Airport_Code', \"Airport_Name\",\"Engine_Type\", \"Report_Status\",\n",
    "    \"Aircraft_Damage\",'Injury_Severity','Aircraft_Category','Registration_Number','Amateur_Built','Weather_Condition']\n",
    "for col in categorical_cols:\n",
    "    df[col]=df[col].fillna('Unknown')"
   ]
  },
  {
   "cell_type": "markdown",
   "id": "bd300874",
   "metadata": {},
   "source": [
    "`Weather_Condition` column requires more manipulation to merge the 'Unk' ,'UNK' values with 'Unknown'"
   ]
  },
  {
   "cell_type": "code",
   "execution_count": 3004,
   "id": "d1651291",
   "metadata": {},
   "outputs": [
    {
     "data": {
      "text/plain": [
       "VMC        77074\n",
       "IMC         5961\n",
       "Unknown     4448\n",
       "UNK          825\n",
       "Unk          262\n",
       "Name: Weather_Condition, dtype: int64"
      ]
     },
     "execution_count": 3004,
     "metadata": {},
     "output_type": "execute_result"
    }
   ],
   "source": [
    "df['Weather_Condition'].value_counts()"
   ]
  },
  {
   "cell_type": "code",
   "execution_count": 3005,
   "id": "b50a525f",
   "metadata": {},
   "outputs": [],
   "source": [
    "#replace the values\n",
    "df['Weather_Condition'].replace('Unk','Unknown', inplace=True)\n",
    "df['Weather_Condition'].replace('UNK','Unknown', inplace=True)"
   ]
  },
  {
   "cell_type": "code",
   "execution_count": 3006,
   "id": "f3439cb3",
   "metadata": {},
   "outputs": [
    {
     "data": {
      "text/plain": [
       "VMC        77074\n",
       "IMC         5961\n",
       "Unknown     5535\n",
       "Name: Weather_Condition, dtype: int64"
      ]
     },
     "execution_count": 3006,
     "metadata": {},
     "output_type": "execute_result"
    }
   ],
   "source": [
    "#check if replaced\n",
    "df['Weather_Condition'].value_counts()"
   ]
  },
  {
   "cell_type": "markdown",
   "id": "c9e1076b",
   "metadata": {},
   "source": [
    "For the `Purpose_Of_Flight`, it will be important to understand  if commercial and private flights have different risks later. I will fill it with the most appearing value"
   ]
  },
  {
   "cell_type": "code",
   "execution_count": 3007,
   "id": "5ed40b55",
   "metadata": {},
   "outputs": [
    {
     "name": "stdout",
     "output_type": "stream",
     "text": [
      "Personal                     49384\n",
      "Instructional                10587\n",
      "Unknown                       6677\n",
      "Aerial Application            4712\n",
      "Business                      4004\n",
      "Positioning                   1628\n",
      "Other Work Use                1259\n",
      "Ferry                          804\n",
      "Aerial Observation             785\n",
      "Public Aircraft                718\n",
      "Executive/corporate            549\n",
      "Flight Test                    405\n",
      "Skydiving                      182\n",
      "External Load                  123\n",
      "Public Aircraft - Federal      104\n",
      "Banner Tow                     101\n",
      "Air Race show                   99\n",
      "Public Aircraft - Local         74\n",
      "Public Aircraft - State         64\n",
      "Air Race/show                   59\n",
      "Glider Tow                      53\n",
      "Firefighting                    40\n",
      "Air Drop                        11\n",
      "ASHO                             6\n",
      "PUBS                             4\n",
      "PUBL                             1\n",
      "Name: Purpose_Of_Flight, dtype: int64\n"
     ]
    }
   ],
   "source": [
    "#check value counts to detect the most frequent\n",
    "print(df['Purpose_Of_Flight'].value_counts())\n",
    "\n",
    "#fill missing values with 'Personal'\n",
    "df['Purpose_Of_Flight'].fillna('Personal', inplace=True)\n",
    "\n"
   ]
  },
  {
   "cell_type": "markdown",
   "id": "5b3bdf86",
   "metadata": {},
   "source": [
    "Now lets clean `Broad phase of Flight` column by filling the `Nan` values with the mode "
   ]
  },
  {
   "cell_type": "code",
   "execution_count": 3008,
   "id": "2af5e2cc",
   "metadata": {},
   "outputs": [
    {
     "name": "stdout",
     "output_type": "stream",
     "text": [
      "0    Landing\n",
      "dtype: object\n"
     ]
    }
   ],
   "source": [
    "print(df['Broad_Phase_Of_Flight'].mode())\n",
    "\n",
    "#fill null values \n",
    "df['Broad_Phase_Of_Flight'].fillna((df['Broad_Phase_Of_Flight'].mode()[0]),inplace=True)"
   ]
  },
  {
   "cell_type": "markdown",
   "id": "b88257c6",
   "metadata": {},
   "source": [
    "**B) NUMERICAL DATA**"
   ]
  },
  {
   "cell_type": "markdown",
   "id": "16edc9dc",
   "metadata": {},
   "source": [
    "Now when dealing with numerical values we need to observe what the numbers represent, In this case of injuries while assuming the best case scenario: we have assumed that the columns with null values for `Injured/injuries` means that no injuries were observed or reported hence filling with '0'"
   ]
  },
  {
   "cell_type": "code",
   "execution_count": 3009,
   "id": "41319bb4",
   "metadata": {},
   "outputs": [
    {
     "data": {
      "text/html": [
       "<div>\n",
       "<style scoped>\n",
       "    .dataframe tbody tr th:only-of-type {\n",
       "        vertical-align: middle;\n",
       "    }\n",
       "\n",
       "    .dataframe tbody tr th {\n",
       "        vertical-align: top;\n",
       "    }\n",
       "\n",
       "    .dataframe thead th {\n",
       "        text-align: right;\n",
       "    }\n",
       "</style>\n",
       "<table border=\"1\" class=\"dataframe\">\n",
       "  <thead>\n",
       "    <tr style=\"text-align: right;\">\n",
       "      <th></th>\n",
       "      <th>Total_Fatal_Injuries</th>\n",
       "      <th>Total_Serious_Injuries</th>\n",
       "      <th>Total_Minor_Injuries</th>\n",
       "      <th>Total_Uninjured</th>\n",
       "      <th>Total_Injuries</th>\n",
       "    </tr>\n",
       "  </thead>\n",
       "  <tbody>\n",
       "    <tr>\n",
       "      <th>0</th>\n",
       "      <td>2.0</td>\n",
       "      <td>0.0</td>\n",
       "      <td>0.0</td>\n",
       "      <td>0.0</td>\n",
       "      <td>0.0</td>\n",
       "    </tr>\n",
       "    <tr>\n",
       "      <th>1</th>\n",
       "      <td>4.0</td>\n",
       "      <td>0.0</td>\n",
       "      <td>0.0</td>\n",
       "      <td>0.0</td>\n",
       "      <td>0.0</td>\n",
       "    </tr>\n",
       "    <tr>\n",
       "      <th>2</th>\n",
       "      <td>3.0</td>\n",
       "      <td>NaN</td>\n",
       "      <td>NaN</td>\n",
       "      <td>NaN</td>\n",
       "      <td>NaN</td>\n",
       "    </tr>\n",
       "    <tr>\n",
       "      <th>3</th>\n",
       "      <td>2.0</td>\n",
       "      <td>0.0</td>\n",
       "      <td>0.0</td>\n",
       "      <td>0.0</td>\n",
       "      <td>0.0</td>\n",
       "    </tr>\n",
       "    <tr>\n",
       "      <th>4</th>\n",
       "      <td>1.0</td>\n",
       "      <td>2.0</td>\n",
       "      <td>NaN</td>\n",
       "      <td>0.0</td>\n",
       "      <td>NaN</td>\n",
       "    </tr>\n",
       "  </tbody>\n",
       "</table>\n",
       "</div>"
      ],
      "text/plain": [
       "   Total_Fatal_Injuries  Total_Serious_Injuries  Total_Minor_Injuries  \\\n",
       "0                   2.0                     0.0                   0.0   \n",
       "1                   4.0                     0.0                   0.0   \n",
       "2                   3.0                     NaN                   NaN   \n",
       "3                   2.0                     0.0                   0.0   \n",
       "4                   1.0                     2.0                   NaN   \n",
       "\n",
       "   Total_Uninjured  Total_Injuries  \n",
       "0              0.0             0.0  \n",
       "1              0.0             0.0  \n",
       "2              NaN             NaN  \n",
       "3              0.0             0.0  \n",
       "4              0.0             NaN  "
      ]
     },
     "execution_count": 3009,
     "metadata": {},
     "output_type": "execute_result"
    }
   ],
   "source": [
    "#check the columns mentioned\n",
    "df.loc[:,[\"Total_Fatal_Injuries\", \"Total_Serious_Injuries\",\n",
    "           \"Total_Minor_Injuries\", \"Total_Uninjured\",'Total_Injuries']].head()"
   ]
  },
  {
   "cell_type": "code",
   "execution_count": 3010,
   "id": "6423d7f3",
   "metadata": {},
   "outputs": [],
   "source": [
    "#fill in 0 or median to null values in columns with numerical value and convert type to interger\n",
    "\n",
    "num_cols= [\"Total_Fatal_Injuries\", \"Total_Serious_Injuries\",\n",
    "           \"Total_Minor_Injuries\", \"Total_Uninjured\",'Total_Injuries']\n",
    "\n",
    "for col in num_cols:\n",
    "    if 'Injuries' in col or col=='Total_Uninjured':\n",
    "        df[col]=df[col].fillna(0)\n",
    "    else: \n",
    "        df[col]=df[col].fillna(df[col].median())\n",
    "    df[col]=df[col].astype(int)"
   ]
  },
  {
   "cell_type": "code",
   "execution_count": 3011,
   "id": "9fa9c97a",
   "metadata": {},
   "outputs": [
    {
     "name": "stdout",
     "output_type": "stream",
     "text": [
      "<class 'pandas.core.frame.DataFrame'>\n",
      "Int64Index: 88570 entries, 0 to 88888\n",
      "Data columns (total 5 columns):\n",
      " #   Column                  Non-Null Count  Dtype\n",
      "---  ------                  --------------  -----\n",
      " 0   Total_Fatal_Injuries    88570 non-null  int32\n",
      " 1   Total_Serious_Injuries  88570 non-null  int32\n",
      " 2   Total_Minor_Injuries    88570 non-null  int32\n",
      " 3   Total_Uninjured         88570 non-null  int32\n",
      " 4   Total_Injuries          88570 non-null  int32\n",
      "dtypes: int32(5)\n",
      "memory usage: 2.4 MB\n"
     ]
    }
   ],
   "source": [
    "#check if type has been converted\n",
    "df[num_cols].info()"
   ]
  },
  {
   "cell_type": "markdown",
   "id": "60485c4c",
   "metadata": {},
   "source": [
    "Next, looking at the `'Number_of_Engines`, these values will be important to know if aircrafts with single or multiple Engines are riskier."
   ]
  },
  {
   "cell_type": "code",
   "execution_count": 3012,
   "id": "aaa5f3f1",
   "metadata": {},
   "outputs": [
    {
     "name": "stdout",
     "output_type": "stream",
     "text": [
      "1.0    69433\n",
      "2.0    11004\n",
      "NaN     6008\n",
      "0.0     1220\n",
      "3.0      476\n",
      "4.0      425\n",
      "8.0        3\n",
      "6.0        1\n",
      "Name: Number_Of_Engines, dtype: int64\n"
     ]
    }
   ],
   "source": [
    "#check value counts to see most frequent\n",
    "print(df['Number_Of_Engines'].value_counts(dropna=False))\n",
    "\n",
    "#fill the missing values of the Number of Engines with the mode[0]the first most frequent value\n",
    "df['Number_Of_Engines'].fillna((df['Number_Of_Engines'].mode()[0]),inplace=True)\n",
    "\n",
    "#convert dtype to integer\n",
    "df['Number_Of_Engines']=df['Number_Of_Engines'].astype(int)"
   ]
  },
  {
   "cell_type": "code",
   "execution_count": 3013,
   "id": "bf954c9b",
   "metadata": {},
   "outputs": [
    {
     "data": {
      "text/plain": [
       "Aircraft_Type             0\n",
       "Amateur_Built             0\n",
       "Investigation_Type        0\n",
       "Accident_Number           0\n",
       "Event_Date                0\n",
       "Location                  0\n",
       "Country                   0\n",
       "Airport_Code              0\n",
       "Airport_Name              0\n",
       "Injury_Severity           0\n",
       "Aircraft_Damage           0\n",
       "Aircraft_Category         0\n",
       "Registration_Number       0\n",
       "Make                      0\n",
       "Model                     0\n",
       "Number_Of_Engines         0\n",
       "Total_Injuries            0\n",
       "Engine_Type               0\n",
       "Purpose_Of_Flight         0\n",
       "Total_Fatal_Injuries      0\n",
       "Total_Serious_Injuries    0\n",
       "Total_Minor_Injuries      0\n",
       "Total_Uninjured           0\n",
       "Weather_Condition         0\n",
       "Broad_Phase_Of_Flight     0\n",
       "Report_Status             0\n",
       "Year                      0\n",
       "Month                     0\n",
       "Day_of_Week               0\n",
       "Decade                    0\n",
       "Event_Id                  0\n",
       "dtype: int64"
      ]
     },
     "execution_count": 3013,
     "metadata": {},
     "output_type": "execute_result"
    }
   ],
   "source": [
    "#recheck missing values\n",
    "df.isna().sum().sort_values(ascending=False)"
   ]
  },
  {
   "cell_type": "markdown",
   "id": "22391099",
   "metadata": {},
   "source": [
    "We  have eliminated all missing values succesfully. "
   ]
  },
  {
   "cell_type": "markdown",
   "id": "333dfbf9",
   "metadata": {},
   "source": [
    "#### 2.4 Droping columns that are irrelevant to our analysis"
   ]
  },
  {
   "cell_type": "markdown",
   "id": "3e636166",
   "metadata": {},
   "source": [
    "Since our analysis is on giving recommendation on what aircraft is the more safer option for purchase and operation, we feel that some columns may be misleading, redundant or irrelevant for our analysis. The following columns did not make the cut:\n",
    "* Event_Id                    \n",
    "* Accident_number             \n",
    "* Registration Number\n",
    "* Report status\n",
    "* Investigation type"
   ]
  },
  {
   "cell_type": "code",
   "execution_count": 3014,
   "id": "482f2419",
   "metadata": {},
   "outputs": [],
   "source": [
    "#drop columns that are not relevant to our analysis\n",
    "df.drop(['Event_Id','Accident_Number','Investigation_Type','Registration_Number','Report_Status'], axis=1, inplace=True)"
   ]
  },
  {
   "cell_type": "code",
   "execution_count": 3015,
   "id": "05a0d3e5",
   "metadata": {},
   "outputs": [
    {
     "data": {
      "text/plain": [
       "(88570, 26)"
      ]
     },
     "execution_count": 3015,
     "metadata": {},
     "output_type": "execute_result"
    }
   ],
   "source": [
    "#recheck the final shape we will work with\n",
    "df.shape\n"
   ]
  },
  {
   "cell_type": "code",
   "execution_count": 3016,
   "id": "24f07739",
   "metadata": {},
   "outputs": [
    {
     "data": {
      "text/plain": [
       "Index(['Event_Date', 'Location', 'Country', 'Airport_Code', 'Airport_Name',\n",
       "       'Injury_Severity', 'Aircraft_Damage', 'Aircraft_Category', 'Make',\n",
       "       'Model', 'Amateur_Built', 'Number_Of_Engines', 'Engine_Type',\n",
       "       'Purpose_Of_Flight', 'Total_Fatal_Injuries', 'Total_Serious_Injuries',\n",
       "       'Total_Minor_Injuries', 'Total_Uninjured', 'Weather_Condition',\n",
       "       'Broad_Phase_Of_Flight', 'Year', 'Month', 'Day_of_Week', 'Decade',\n",
       "       'Total_Injuries', 'Aircraft_Type'],\n",
       "      dtype='object')"
      ]
     },
     "execution_count": 3016,
     "metadata": {},
     "output_type": "execute_result"
    }
   ],
   "source": [
    "#final columns we are working with\n",
    "df.columns"
   ]
  },
  {
   "cell_type": "code",
   "execution_count": 3017,
   "id": "1fca8a94",
   "metadata": {},
   "outputs": [
    {
     "data": {
      "text/html": [
       "<div>\n",
       "<style scoped>\n",
       "    .dataframe tbody tr th:only-of-type {\n",
       "        vertical-align: middle;\n",
       "    }\n",
       "\n",
       "    .dataframe tbody tr th {\n",
       "        vertical-align: top;\n",
       "    }\n",
       "\n",
       "    .dataframe thead th {\n",
       "        text-align: right;\n",
       "    }\n",
       "</style>\n",
       "<table border=\"1\" class=\"dataframe\">\n",
       "  <thead>\n",
       "    <tr style=\"text-align: right;\">\n",
       "      <th></th>\n",
       "      <th>Event_Date</th>\n",
       "      <th>Location</th>\n",
       "      <th>Country</th>\n",
       "      <th>Airport_Code</th>\n",
       "      <th>Airport_Name</th>\n",
       "      <th>Injury_Severity</th>\n",
       "      <th>Aircraft_Damage</th>\n",
       "      <th>Aircraft_Category</th>\n",
       "      <th>Make</th>\n",
       "      <th>Model</th>\n",
       "      <th>...</th>\n",
       "      <th>Total_Minor_Injuries</th>\n",
       "      <th>Total_Uninjured</th>\n",
       "      <th>Weather_Condition</th>\n",
       "      <th>Broad_Phase_Of_Flight</th>\n",
       "      <th>Year</th>\n",
       "      <th>Month</th>\n",
       "      <th>Day_of_Week</th>\n",
       "      <th>Decade</th>\n",
       "      <th>Total_Injuries</th>\n",
       "      <th>Aircraft_Type</th>\n",
       "    </tr>\n",
       "  </thead>\n",
       "  <tbody>\n",
       "    <tr>\n",
       "      <th>0</th>\n",
       "      <td>1948-10-24</td>\n",
       "      <td>MOOSE CREEK, ID</td>\n",
       "      <td>United States</td>\n",
       "      <td>Unknown</td>\n",
       "      <td>Unknown</td>\n",
       "      <td>Fatal(2)</td>\n",
       "      <td>Destroyed</td>\n",
       "      <td>Unknown</td>\n",
       "      <td>STINSON</td>\n",
       "      <td>108-3</td>\n",
       "      <td>...</td>\n",
       "      <td>0</td>\n",
       "      <td>0</td>\n",
       "      <td>Unknown</td>\n",
       "      <td>Cruise</td>\n",
       "      <td>1948</td>\n",
       "      <td>10</td>\n",
       "      <td>Sunday</td>\n",
       "      <td>1940</td>\n",
       "      <td>0</td>\n",
       "      <td>STINSON 108-3</td>\n",
       "    </tr>\n",
       "    <tr>\n",
       "      <th>1</th>\n",
       "      <td>1962-07-19</td>\n",
       "      <td>BRIDGEPORT, CA</td>\n",
       "      <td>United States</td>\n",
       "      <td>Unknown</td>\n",
       "      <td>Unknown</td>\n",
       "      <td>Fatal(4)</td>\n",
       "      <td>Destroyed</td>\n",
       "      <td>Unknown</td>\n",
       "      <td>PIPER</td>\n",
       "      <td>PA24-180</td>\n",
       "      <td>...</td>\n",
       "      <td>0</td>\n",
       "      <td>0</td>\n",
       "      <td>Unknown</td>\n",
       "      <td>Unknown</td>\n",
       "      <td>1962</td>\n",
       "      <td>7</td>\n",
       "      <td>Thursday</td>\n",
       "      <td>1960</td>\n",
       "      <td>0</td>\n",
       "      <td>PIPER PA24-180</td>\n",
       "    </tr>\n",
       "    <tr>\n",
       "      <th>2</th>\n",
       "      <td>1974-08-30</td>\n",
       "      <td>Saltville, VA</td>\n",
       "      <td>United States</td>\n",
       "      <td>Unknown</td>\n",
       "      <td>Unknown</td>\n",
       "      <td>Fatal(3)</td>\n",
       "      <td>Destroyed</td>\n",
       "      <td>Unknown</td>\n",
       "      <td>CESSNA</td>\n",
       "      <td>172M</td>\n",
       "      <td>...</td>\n",
       "      <td>0</td>\n",
       "      <td>0</td>\n",
       "      <td>IMC</td>\n",
       "      <td>Cruise</td>\n",
       "      <td>1974</td>\n",
       "      <td>8</td>\n",
       "      <td>Friday</td>\n",
       "      <td>1970</td>\n",
       "      <td>0</td>\n",
       "      <td>CESSNA 172M</td>\n",
       "    </tr>\n",
       "    <tr>\n",
       "      <th>3</th>\n",
       "      <td>1977-06-19</td>\n",
       "      <td>EUREKA, CA</td>\n",
       "      <td>United States</td>\n",
       "      <td>Unknown</td>\n",
       "      <td>Unknown</td>\n",
       "      <td>Fatal(2)</td>\n",
       "      <td>Destroyed</td>\n",
       "      <td>Unknown</td>\n",
       "      <td>ROCKWELL</td>\n",
       "      <td>112</td>\n",
       "      <td>...</td>\n",
       "      <td>0</td>\n",
       "      <td>0</td>\n",
       "      <td>IMC</td>\n",
       "      <td>Cruise</td>\n",
       "      <td>1977</td>\n",
       "      <td>6</td>\n",
       "      <td>Sunday</td>\n",
       "      <td>1970</td>\n",
       "      <td>0</td>\n",
       "      <td>ROCKWELL 112</td>\n",
       "    </tr>\n",
       "    <tr>\n",
       "      <th>4</th>\n",
       "      <td>1979-08-02</td>\n",
       "      <td>Canton, OH</td>\n",
       "      <td>United States</td>\n",
       "      <td>Unknown</td>\n",
       "      <td>Unknown</td>\n",
       "      <td>Fatal(1)</td>\n",
       "      <td>Destroyed</td>\n",
       "      <td>Unknown</td>\n",
       "      <td>CESSNA</td>\n",
       "      <td>501</td>\n",
       "      <td>...</td>\n",
       "      <td>0</td>\n",
       "      <td>0</td>\n",
       "      <td>VMC</td>\n",
       "      <td>Approach</td>\n",
       "      <td>1979</td>\n",
       "      <td>8</td>\n",
       "      <td>Thursday</td>\n",
       "      <td>1970</td>\n",
       "      <td>0</td>\n",
       "      <td>CESSNA 501</td>\n",
       "    </tr>\n",
       "  </tbody>\n",
       "</table>\n",
       "<p>5 rows × 26 columns</p>\n",
       "</div>"
      ],
      "text/plain": [
       "  Event_Date         Location        Country Airport_Code Airport_Name  \\\n",
       "0 1948-10-24  MOOSE CREEK, ID  United States      Unknown      Unknown   \n",
       "1 1962-07-19   BRIDGEPORT, CA  United States      Unknown      Unknown   \n",
       "2 1974-08-30    Saltville, VA  United States      Unknown      Unknown   \n",
       "3 1977-06-19       EUREKA, CA  United States      Unknown      Unknown   \n",
       "4 1979-08-02       Canton, OH  United States      Unknown      Unknown   \n",
       "\n",
       "  Injury_Severity Aircraft_Damage Aircraft_Category      Make     Model  ...  \\\n",
       "0        Fatal(2)       Destroyed           Unknown   STINSON     108-3  ...   \n",
       "1        Fatal(4)       Destroyed           Unknown     PIPER  PA24-180  ...   \n",
       "2        Fatal(3)       Destroyed           Unknown    CESSNA      172M  ...   \n",
       "3        Fatal(2)       Destroyed           Unknown  ROCKWELL       112  ...   \n",
       "4        Fatal(1)       Destroyed           Unknown    CESSNA       501  ...   \n",
       "\n",
       "  Total_Minor_Injuries  Total_Uninjured Weather_Condition  \\\n",
       "0                    0                0           Unknown   \n",
       "1                    0                0           Unknown   \n",
       "2                    0                0               IMC   \n",
       "3                    0                0               IMC   \n",
       "4                    0                0               VMC   \n",
       "\n",
       "  Broad_Phase_Of_Flight  Year  Month  Day_of_Week  Decade Total_Injuries  \\\n",
       "0                Cruise  1948     10       Sunday    1940              0   \n",
       "1               Unknown  1962      7     Thursday    1960              0   \n",
       "2                Cruise  1974      8       Friday    1970              0   \n",
       "3                Cruise  1977      6       Sunday    1970              0   \n",
       "4              Approach  1979      8     Thursday    1970              0   \n",
       "\n",
       "    Aircraft_Type  \n",
       "0   STINSON 108-3  \n",
       "1  PIPER PA24-180  \n",
       "2     CESSNA 172M  \n",
       "3    ROCKWELL 112  \n",
       "4      CESSNA 501  \n",
       "\n",
       "[5 rows x 26 columns]"
      ]
     },
     "execution_count": 3017,
     "metadata": {},
     "output_type": "execute_result"
    }
   ],
   "source": [
    "df.head()"
   ]
  },
  {
   "cell_type": "markdown",
   "id": "00cfd892",
   "metadata": {},
   "source": [
    "**DATA CLEANING CONCLUSION**\n",
    "\n",
    "The Aviation Dataset has been thoroughly cleaned and prepared for exportation. The final dataset we will be working with has 26 columns and 88570 rows of data. Key actions included in this section were:\n",
    "* standardizing data\n",
    "* dealing with missing values\n",
    "* deriving columns needed for analysis \n",
    "* removing irrelevant columns\n",
    "\n",
    "Our Dataset is now ready for export and Exploratory Data Analysis to identify the low-risk aircrafts."
   ]
  },
  {
   "cell_type": "markdown",
   "id": "fed9d3e2",
   "metadata": {},
   "source": [
    "## 3. EXPORT CLEANED DATA FOR TABLEAU"
   ]
  },
  {
   "cell_type": "code",
   "execution_count": null,
   "id": "70e982e8",
   "metadata": {},
   "outputs": [],
   "source": [
    "#Export new cleaned dataframe to a new csv File \n",
    "df.to_csv('Data/Cleaned_Accident_Data.csv',index=False)\n"
   ]
  },
  {
   "cell_type": "markdown",
   "id": "4f569999",
   "metadata": {},
   "source": [
    "## 4. EXPLORATORY DATA ANALYSIS\n"
   ]
  },
  {
   "cell_type": "markdown",
   "id": "16c34a96",
   "metadata": {},
   "source": [
    "The next part is essential to every project where we detect and investigate the dataset's main characteristics and study patterns with visualizations to answer the following questions:\n",
    " 1. Which aircrafts has the highest and lowest accidents,injuries and fatalities?\n",
    "\n",
    " 2. Does number of engines in an aircraft impact accidents?\n",
    "\n",
    " 3. Which aircrafts are best used for private and commercial flights?\n",
    "\n",
    "\n",
    "\n",
    "We will explore accident frequencies,counts and impact of type of aircraft, number of Engines, Purpose of flight to cater for SkySafe's goal to identify aircrafts with the least risks for acquisition and ."
   ]
  },
  {
   "cell_type": "markdown",
   "id": "f9c725de",
   "metadata": {},
   "source": [
    "To answer the first question we look at the following plots: ***Which aircrafts has the highest and lowest accidents,injuries and fatalities?***\n"
   ]
  },
  {
   "cell_type": "markdown",
   "id": "db5ca7a6",
   "metadata": {},
   "source": [
    "* **Accident trends overtime by Aircraft Type**"
   ]
  },
  {
   "cell_type": "code",
   "execution_count": 3019,
   "id": "a6ba22e6",
   "metadata": {},
   "outputs": [
    {
     "data": {
      "image/png": "[encoded data removed]",
      "text/plain": [
       "<Figure size 1000x600 with 1 Axes>"
      ]
     },
     "metadata": {},
     "output_type": "display_data"
    }
   ],
   "source": [
    "\n",
    "# Crosstab to count accidents by year and aircraft type\n",
    "cross_high = pd.crosstab(df['Decade'], df['Aircraft_Type'])\n",
    "\n",
    "# Keep only top 10 aircraft\n",
    "top_10_types = df['Aircraft_Type'].value_counts().nlargest(10).index\n",
    "pivot_top_10 = cross_high[top_10_types]\n",
    "\n",
    "\n",
    "#Plotting\n",
    "fig,ax=plt.subplots(figsize=(10,6))\n",
    "\n",
    "# Plot top 5 aircraft types\n",
    "pivot_top_10.plot(ax=ax ,kind='line', marker='*',colormap='tab10')\n",
    "ax.set_title(\"Top 10 Aircraft Types Accident Trends by 10 Years\")\n",
    "ax.set_xlabel(\"Decades\")\n",
    "ax.set_ylabel(\"Number of Accidents\")\n",
    "ax.grid(True, linestyle='--', alpha=0.5)\n",
    "\n",
    "plt.savefig('Images/Aircraft&Accident_trends.png')\n",
    "plt.show()\n"
   ]
  },
  {
   "cell_type": "markdown",
   "id": "064d2e46",
   "metadata": {},
   "source": [
    "This analysis shows that the Cessna aircraft types especially Cessna 152 & 172 has the highest number of accidents with peak in 1980s. while the Piper PA-28-161 seems to have low accidents over the decades.\n",
    "Although, overtime the accident counts have declined steadily across all aircraft types especially after the 2000s hence suggesting improvements in safety measures in aviation. "
   ]
  },
  {
   "cell_type": "markdown",
   "id": "697b1f00",
   "metadata": {},
   "source": [
    "* **Aircraft type  with most Injuries**"
   ]
  },
  {
   "cell_type": "code",
   "execution_count": 3020,
   "id": "ebc1b3a4",
   "metadata": {},
   "outputs": [
    {
     "data": {
      "image/png": "[encoded data removed]",
      "text/plain": [
       "<Figure size 1000x600 with 1 Axes>"
      ]
     },
     "metadata": {},
     "output_type": "display_data"
    }
   ],
   "source": [
    "#top 20 aircraft value counts by Injuries\n",
    "accident_aircraft= df['Aircraft_Type'].value_counts().nlargest(20)\n",
    "\n",
    "#plotting\n",
    "plt.figure(figsize=(10, 6))\n",
    "\n",
    "accident_aircraft.plot(kind='barh',color='skyblue', edgecolor='black')\n",
    "plt.title('Top 20 Aircraft Types by Injuries')\n",
    "plt.xlabel('Number of Injuries')\n",
    "plt.ylabel('Aircraft Type')\n",
    "\n",
    "plt.savefig('Images/Aircraft&Injuries.png')\n",
    "plt.show()"
   ]
  },
  {
   "cell_type": "markdown",
   "id": "388f8d72",
   "metadata": {},
   "source": [
    "Still the Cessna types especially Cessna 172 & 152 dominate in injury counts while Piper family seems to have a lower count of injuries in comparison to Cessna. Although Bell 206B, report low accident counts , research shows it is an agricultural Helicopters which would not be ideal for our client. "
   ]
  },
  {
   "cell_type": "markdown",
   "id": "3b06ca85",
   "metadata": {},
   "source": [
    "* **Fatal injuries Across Aircraft Types**"
   ]
  },
  {
   "cell_type": "code",
   "execution_count": 3021,
   "id": "a5d2491c",
   "metadata": {},
   "outputs": [
    {
     "data": {
      "image/png": "[encoded data removed]",
      "text/plain": [
       "<Figure size 1000x600 with 1 Axes>"
      ]
     },
     "metadata": {},
     "output_type": "display_data"
    }
   ],
   "source": [
    "fatal_df= df.groupby('Aircraft_Type')['Total_Fatal_Injuries'].sum().sort_values(ascending=False).head(20)\n",
    "\n",
    "plt.figure(figsize=(10, 6))\n",
    "\n",
    "fatal_df.plot(kind='barh',color='red', edgecolor='black')\n",
    "\n",
    "plt.title('Top 20 Aircraft Types by Fatalities')\n",
    "plt.xlabel('Total Fatal Injuries')\n",
    "plt.ylabel('Aircraft Type')\n",
    "\n",
    "plt.savefig('Images/Aircraft&fatalities_trends.png')\n",
    "plt.show()"
   ]
  },
  {
   "cell_type": "markdown",
   "id": "9d49f061",
   "metadata": {},
   "source": [
    "The analysis shows that Boeing 737 and Boeing 737-200 accidents resulted in the highest number of fatalities with a total exceeding 1300."
   ]
  },
  {
   "cell_type": "markdown",
   "id": "96292a06",
   "metadata": {},
   "source": [
    "To answer the second question: ***Does number of engines in an aircraft impact accidents?***\n"
   ]
  },
  {
   "cell_type": "markdown",
   "id": "adaca7e3",
   "metadata": {},
   "source": [
    "* **Number of engine in accidents**\n"
   ]
  },
  {
   "cell_type": "code",
   "execution_count": 3022,
   "id": "a64e1fec",
   "metadata": {},
   "outputs": [
    {
     "data": {
      "image/png": "[encoded data removed]",
      "text/plain": [
       "<Figure size 1000x600 with 1 Axes>"
      ]
     },
     "metadata": {},
     "output_type": "display_data"
    }
   ],
   "source": [
    "Range_of_engines= len(df['Number_Of_Engines'].unique())\n",
    "\n",
    "df['Number_Of_Engines'].plot(kind='hist', bins=range(1, Range_of_engines + 2), edgecolor='black', figsize=(10, 6))\n",
    "plt.title('Distribution of Number of Engines in Aircraft Accidents')\n",
    "plt.xlabel('Number of Engines')\n",
    "plt.ylabel('Number of Accidents')\n",
    "plt.savefig('Images/engines&Accidents_trends.png')\n",
    "plt.show()\n"
   ]
  },
  {
   "cell_type": "markdown",
   "id": "ee7fdea7",
   "metadata": {},
   "source": [
    "The aircrafts with single Engines caused more accidents resulting to close to 75000 Accidents ,while aircrafts with multiple engines had significantly fewer accidents especially the ones with more than 2 engines."
   ]
  },
  {
   "cell_type": "markdown",
   "id": "38535a67",
   "metadata": {},
   "source": [
    "To answer the third Question: ***Which aircrafts are best used for private and commercial flights?***"
   ]
  },
  {
   "cell_type": "markdown",
   "id": "4a6a8528",
   "metadata": {},
   "source": [
    "* **Purpose of Flight**\n",
    "\n",
    "Since our client wants both private and commercial flights we will analyze accidents trends based on purpose of flight"
   ]
  },
  {
   "cell_type": "code",
   "execution_count": 3023,
   "id": "bdcdf7d9",
   "metadata": {},
   "outputs": [
    {
     "data": {
      "text/plain": [
       "Personal                     55521\n",
       "Instructional                10587\n",
       "Unknown                       6677\n",
       "Aerial Application            4712\n",
       "Business                      4004\n",
       "Positioning                   1628\n",
       "Other Work Use                1259\n",
       "Ferry                          804\n",
       "Aerial Observation             785\n",
       "Public Aircraft                718\n",
       "Executive/corporate            549\n",
       "Flight Test                    405\n",
       "Skydiving                      182\n",
       "External Load                  123\n",
       "Public Aircraft - Federal      104\n",
       "Banner Tow                     101\n",
       "Air Race show                   99\n",
       "Public Aircraft - Local         74\n",
       "Public Aircraft - State         64\n",
       "Air Race/show                   59\n",
       "Glider Tow                      53\n",
       "Firefighting                    40\n",
       "Air Drop                        11\n",
       "ASHO                             6\n",
       "PUBS                             4\n",
       "PUBL                             1\n",
       "Name: Purpose_Of_Flight, dtype: int64"
      ]
     },
     "execution_count": 3023,
     "metadata": {},
     "output_type": "execute_result"
    }
   ],
   "source": [
    "#check the counts in Purpose of flight \n",
    "df['Purpose_Of_Flight'].value_counts()"
   ]
  },
  {
   "cell_type": "code",
   "execution_count": 3024,
   "id": "2ddd0653",
   "metadata": {},
   "outputs": [
    {
     "data": {
      "image/png": "[encoded data removed]",
      "text/plain": [
       "<Figure size 1000x600 with 4 Axes>"
      ]
     },
     "metadata": {},
     "output_type": "display_data"
    }
   ],
   "source": [
    "\n",
    "# Make Purpose_Of_Flight uppercase first to standardize\n",
    "df['Purpose_Of_Flight'] = df['Purpose_Of_Flight'].str.upper()\n",
    "\n",
    "# Select relevant purposes of flight for our analysis\n",
    "relevant_purpose = ['PERSONAL', 'BUSINESS', 'EXECUTIVE/CORPORATE', 'INSTRUCTIONAL']\n",
    "\n",
    "#create a dataframe with our relevant purposes\n",
    "df_relevant = df[df['Purpose_Of_Flight'].isin(relevant_purpose)]\n",
    "\n",
    "# Group by purpose of flight and aircraft type & reset index\n",
    "group_relevant = (\n",
    "    df_relevant.groupby(['Purpose_Of_Flight', 'Aircraft_Type'])\n",
    "    .size()\n",
    "    .reset_index(name='Count')\n",
    ")\n",
    "\n",
    "# Get top 5 aircraft per purpose\n",
    "top5_per_purpose = (\n",
    "    group_relevant.groupby('Purpose_Of_Flight', group_keys=False)\n",
    "    .apply(lambda x: x.nlargest(5, 'Count'))\n",
    ")\n",
    "\n",
    "# Plotting 2 rows * 2 columns of subplots\n",
    "fig, axes = plt.subplots(2, 2, figsize=(10, 6))\n",
    "axes = axes.flatten()\n",
    "\n",
    "for i, purpose in enumerate(relevant_purpose):\n",
    "    data = top5_per_purpose[top5_per_purpose['Purpose_Of_Flight'] == purpose]\n",
    "    \n",
    "    if data.empty:\n",
    "        axes[i].text(0.5, 0.5, \"No data available\", ha='center', va='center')\n",
    "        axes[i].set_title(f\"{purpose.title()} flights\")\n",
    "        axes[i].set_axis_off()\n",
    "        continue\n",
    "    \n",
    "    sns.barplot(x='Count', y='Aircraft_Type', data=data, ax=axes[i], palette='inferno')\n",
    "    axes[i].set_title(f\"Top 5 Aircraft in {purpose.title()} Flights\")\n",
    "    axes[i].set_xlabel('Number of Accidents')\n",
    "    axes[i].set_ylabel('Aircraft Type')\n",
    "\n",
    "plt.tight_layout()\n",
    "plt.savefig('Images/Aircraft&Purpose_trends.png')\n",
    "plt.show()\n"
   ]
  },
  {
   "cell_type": "markdown",
   "id": "017b732c",
   "metadata": {},
   "source": [
    "The plots above shows that the CESSNA 172 flights has the majority of accidents in both Personal and Instructional flights, while the Cessna 421C leads in accidents on Executive/corporate Flights while Beech A36 leads in Business Flights.\n"
   ]
  },
  {
   "cell_type": "markdown",
   "id": "a4d73d8a",
   "metadata": {},
   "source": [
    "## 5. CONCLUSION & RECOMENDATIONS"
   ]
  },
  {
   "cell_type": "markdown",
   "id": "c80fff60",
   "metadata": {},
   "source": [
    "In the visualizations above we were "
   ]
  }
 ],
 "metadata": {
  "kernelspec": {
   "display_name": "learn-env",
   "language": "python",
   "name": "python3"
  },
  "language_info": {
   "codemirror_mode": {
    "name": "ipython",
    "version": 3
   },
   "file_extension": ".py",
   "mimetype": "text/x-python",
   "name": "python",
   "nbconvert_exporter": "python",
   "pygments_lexer": "ipython3",
   "version": "3.8.5"
  }
 },
 "nbformat": 4,
 "nbformat_minor": 5
}
